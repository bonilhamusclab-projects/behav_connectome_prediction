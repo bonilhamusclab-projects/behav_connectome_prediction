{
 "cells": [
  {
   "cell_type": "code",
   "execution_count": 1,
   "metadata": {
    "collapsed": true
   },
   "outputs": [],
   "source": [
    "%matplotlib inline\n",
    "from pylab import rcParams\n",
    "rcParams['figure.figsize'] = 10, 5"
   ]
  },
  {
   "cell_type": "code",
   "execution_count": 3,
   "metadata": {
    "collapsed": false
   },
   "outputs": [],
   "source": [
    "from __future__ import division\n",
    "\n",
    "import sys\n",
    "\n",
    "\n",
    "import matplotlib.pyplot as plt\n",
    "from nilearn import plotting\n",
    "import numpy as np\n",
    "import pandas as pd\n",
    "\n",
    "import sklearn\n",
    "from sklearn.cross_validation import ShuffleSplit\n",
    "from sklearn.pipeline import Pipeline\n",
    "from sklearn.preprocessing import scale\n",
    "from sklearn.svm import LinearSVR, LinearSVC\n",
    "\n",
    "import entrainment_pred"
   ]
  },
  {
   "cell_type": "code",
   "execution_count": 4,
   "metadata": {
    "collapsed": false
   },
   "outputs": [],
   "source": [
    "full_atw = pd.read_csv(\"data/step3/full_atw.csv\")\n",
    "data_atw, target_atw = entrainment_pred.separate(full_atw, 'atw_z')\n",
    "data_atw_df, target_atw_df = entrainment_pred.separate(full_atw, 'atw_diff_wpm')\n",
    "\n",
    "full_adw = pd.read_csv(\"data/step3/full_adw.csv\")\n",
    "data_adw, target_adw = entrainment_pred.separate(full_adw, 'adw_z')"
   ]
  },
  {
   "cell_type": "code",
   "execution_count": 5,
   "metadata": {
    "collapsed": true
   },
   "outputs": [],
   "source": [
    "def log_dir_f(f_name):\n",
    "    import os\n",
    "    return os.path.join(\"data/step4/left_hemi/\", f_name)\n",
    "\n",
    "def load_logged_csv(f_name):\n",
    "    return np.loadtxt(log_dir_f(f_name), delimiter=',')"
   ]
  },
  {
   "cell_type": "markdown",
   "metadata": {},
   "source": [
    "### Create Best Pipelines"
   ]
  },
  {
   "cell_type": "code",
   "execution_count": 6,
   "metadata": {
    "collapsed": false
   },
   "outputs": [
    {
     "name": "stdout",
     "output_type": "stream",
     "text": [
      "INFO:atw_z:best params: {'svr__C': 1.1362635342572497e-05}\r\n",
      "INFO:adw_z:best params: {'svr__C': 4.2787988344085613e-07}\r\n"
     ]
    }
   ],
   "source": [
    "!cat {log_dir_f('search_results.log')} | grep \"best params:\""
   ]
  },
  {
   "cell_type": "code",
   "execution_count": 7,
   "metadata": {
    "collapsed": false
   },
   "outputs": [
    {
     "name": "stdout",
     "output_type": "stream",
     "text": [
      "INFO:atw_z:normalized: no\r\n",
      "INFO:adw_z:normalized: no\r\n"
     ]
    }
   ],
   "source": [
    "!cat {log_dir_f('search_results.log')} | grep \"norm\""
   ]
  },
  {
   "cell_type": "code",
   "execution_count": 8,
   "metadata": {
    "collapsed": false
   },
   "outputs": [],
   "source": [
    "def create_shuffle_split(target):\n",
    "    return ShuffleSplit(len(target), \n",
    "                        n_iter=100, \n",
    "                        test_size=1/6.0, random_state=1234)\n",
    "\n",
    "\n",
    "data_atw = data_atw.get_values()\n",
    "svr_atw = LinearSVR(C=1.1362635342572497e-05)\n",
    "pipe_atw = Pipeline([('svr', svr_atw)])\n",
    "cv_atw = create_shuffle_split(target_atw)\n",
    "\n",
    "data_adw = data_adw.get_values()\n",
    "svr_adw = LinearSVR(C=4.2787988344085613e-07)\n",
    "pipe_adw = Pipeline([('svr', svr_adw)])\n",
    "cv_adw = create_shuffle_split(target_adw)"
   ]
  },
  {
   "cell_type": "markdown",
   "metadata": {},
   "source": [
    "### Calculate Coefficients and Plot Closeness to Fit"
   ]
  },
  {
   "cell_type": "code",
   "execution_count": 9,
   "metadata": {
    "collapsed": false
   },
   "outputs": [],
   "source": [
    "def plot(predict_hist, target, title, sort=True, agg=np.mean, save=True):\n",
    "    pmns = np.array([agg(predict_hist[i]) for i in predict_hist.keys()])\n",
    "    \n",
    "    plt_indices = np.argsort(target) if sort else x\n",
    "    plt_indices = plt_indices[plt_indices.apply(lambda i: len(predict_hist[i]) > 0)]\n",
    "    \n",
    "    x = np.array(range(len(plt_indices)))\n",
    "    \n",
    "    pmns = pmns[plt_indices]\n",
    "    target = target.get_values()[plt_indices]\n",
    "    \n",
    "    plt.scatter(x, pmns, c='y')\n",
    "    \n",
    "    p = plt.plot(x, target, marker='*')\n",
    "    plt.title(title)\n",
    "    plt.legend([\"truth\", \"mean pred.\"], bbox_to_anchor=[.9, 1.0])\n",
    "    msg = 'corr: %.2f' % np.corrcoef(\n",
    "        pmns, target)[0][1]\n",
    "    plt.text(.6, .95, msg, verticalalignment='top', fontsize=12, \n",
    "         horizontalalignment='right', transform=p[0].axes.transAxes)\n",
    "    \n",
    "    m, b = np.polyfit(x, pmns, 1)\n",
    "    plt.plot(x, m*x + b, '-')\n",
    "    \n",
    "    if save:\n",
    "        plt.savefig(title + '.jpg')"
   ]
  },
  {
   "cell_type": "code",
   "execution_count": 10,
   "metadata": {
    "collapsed": true
   },
   "outputs": [],
   "source": [
    "def calc_coeffs(best_estimator, cv, data, target, verbose=True):\n",
    "\n",
    "    def _calc_coeffs(predicted_hist):\n",
    "        n_iter = cv.n_iter\n",
    "        if verbose: print('-' * n_iter)\n",
    "\n",
    "        svr = best_estimator.named_steps['svr']\n",
    "        def fit(train):\n",
    "            best_estimator.fit(data[train], target[train])\n",
    "\n",
    "        def predict(test):\n",
    "            predicted = best_estimator.predict(data[test]).tolist()\n",
    "            for i in test:\n",
    "                predicted_hist[i].append(predicted.pop(0))\n",
    "\n",
    "        def coeffs_fn():\n",
    "            if verbose: sys.stdout.write('#')\n",
    "            return svr.coef_.copy()\n",
    "\n",
    "        coeffs = entrainment_pred.calc_coeffs(cv, fit, coeffs_fn, predict)\n",
    "        return coeffs, predicted_hist\n",
    "    \n",
    "    return _calc_coeffs({i:[] for i in range(len(target))})\n",
    "    "
   ]
  },
  {
   "cell_type": "code",
   "execution_count": 11,
   "metadata": {
    "collapsed": false,
    "scrolled": true
   },
   "outputs": [
    {
     "name": "stdout",
     "output_type": "stream",
     "text": [
      "----------------------------------------------------------------------------------------------------\n",
      "####################################################################################################----------------------------------------------------------------------------------------------------\n",
      "####################################################################################################"
     ]
    }
   ],
   "source": [
    "coeffs_adw, predict_hist_adw = calc_coeffs(pipe_adw, cv_adw, \n",
    "                                           data_adw, target_adw)\n",
    "coeffs_atw, predict_hist_atw = calc_coeffs(pipe_atw, cv_atw, \n",
    "                                           data_atw, target_atw)"
   ]
  },
  {
   "cell_type": "code",
   "execution_count": 12,
   "metadata": {
    "collapsed": false,
    "scrolled": true
   },
   "outputs": [
    {
     "data": {
      "image/png": "[encoded data removed]",
      "text/plain": [
       "<matplotlib.figure.Figure at 0x7f8ad51b4850>"
      ]
     },
     "metadata": {},
     "output_type": "display_data"
    }
   ],
   "source": [
    "plot(predict_hist_adw, target_adw, 'Average Different Words')"
   ]
  },
  {
   "cell_type": "code",
   "execution_count": 13,
   "metadata": {
    "collapsed": false
   },
   "outputs": [
    {
     "data": {
      "image/png": "[encoded data removed]",
      "text/plain": [
       "<matplotlib.figure.Figure at 0x7f8ad4cabe90>"
      ]
     },
     "metadata": {},
     "output_type": "display_data"
    }
   ],
   "source": [
    "plot(predict_hist_atw, target_atw, 'Average Total Words')"
   ]
  },
  {
   "cell_type": "markdown",
   "metadata": {},
   "source": [
    "### Plot Permutation Curve"
   ]
  },
  {
   "cell_type": "code",
   "execution_count": 14,
   "metadata": {
    "collapsed": false
   },
   "outputs": [
    {
     "name": "stdout",
     "output_type": "stream",
     "text": [
      "INFO:atw_z:best score: 0.360077495481\r\n",
      "INFO:adw_z:best score: 0.336839287962\r\n"
     ]
    }
   ],
   "source": [
    "!cat {log_dir_f(\"search_results.log\")} | grep \"best score:\""
   ]
  },
  {
   "cell_type": "code",
   "execution_count": 15,
   "metadata": {
    "collapsed": true
   },
   "outputs": [],
   "source": [
    "best_score_atw = 0.360077495481\n",
    "best_score_adw = 0.336839287962"
   ]
  },
  {
   "cell_type": "code",
   "execution_count": 16,
   "metadata": {
    "collapsed": false
   },
   "outputs": [],
   "source": [
    "permute_pred_scores_atw = load_logged_csv('atw_z_permute_pred_scores.csv')\n",
    "permute_pred_scores_adw = load_logged_csv('adw_z_permute_pred_scores.csv')"
   ]
  },
  {
   "cell_type": "code",
   "execution_count": 17,
   "metadata": {
    "collapsed": false
   },
   "outputs": [],
   "source": [
    "def plot_perm_scores(permute_scores, best_score, label):\n",
    "    plt.hist(permute_scores, 20, label='Permutation scores ' + label);\n",
    "    ylim = plt.ylim()\n",
    "    plt.plot(2 * [best_score], ylim, '--g', linewidth=3,\n",
    "             label='Classification Score')\n",
    "\n",
    "    plt.ylim(ylim);\n",
    "    plt.legend();\n",
    "    plt.xlabel('Score');"
   ]
  },
  {
   "cell_type": "code",
   "execution_count": 18,
   "metadata": {
    "collapsed": false
   },
   "outputs": [
    {
     "data": {
      "image/png": "[encoded data removed]",
      "text/plain": [
       "<matplotlib.figure.Figure at 0x7f8ad4c68f90>"
      ]
     },
     "metadata": {},
     "output_type": "display_data"
    }
   ],
   "source": [
    "plot_perm_scores(permute_pred_scores_adw, best_score_adw, \"Avg Diff Words Z\")"
   ]
  },
  {
   "cell_type": "code",
   "execution_count": 19,
   "metadata": {
    "collapsed": false
   },
   "outputs": [
    {
     "data": {
      "image/png": "[encoded data removed]",
      "text/plain": [
       "<matplotlib.figure.Figure at 0x7f8ad4aeedd0>"
      ]
     },
     "metadata": {},
     "output_type": "display_data"
    }
   ],
   "source": [
    "plot_perm_scores(permute_pred_scores_atw, best_score_atw, \"Avg Total Words Z\")"
   ]
  },
  {
   "cell_type": "markdown",
   "metadata": {},
   "source": [
    "### Get Best Coefs"
   ]
  },
  {
   "cell_type": "code",
   "execution_count": 23,
   "metadata": {
    "collapsed": false
   },
   "outputs": [],
   "source": [
    "def load_csv(f_name):\n",
    "    return load_logged_csv(f_name)\n",
    "\n",
    "def valid_coefs(prefix, cutoff=.05):\n",
    "    flat_coefs = load_csv(prefix + '_best_coefs.csv')\n",
    "    perm_pos_coefs = np.sort(load_csv(prefix + '_permute_max_coefs.csv'))\n",
    "    perm_neg_coefs = np.sort(load_csv(prefix + '_permute_min_coefs.csv'))\n",
    "    \n",
    "    valid_pos = flat_coefs.copy()\n",
    "    valid_pos[valid_pos < 0] = 0\n",
    "    \n",
    "    valid_neg = flat_coefs.copy()\n",
    "    valid_neg[valid_neg > 0] = 0\n",
    "    \n",
    "    if cutoff is not None:\n",
    "        def within(val, max_val):\n",
    "            if val < 0:\n",
    "                return 0\n",
    "            elif val > max_val:\n",
    "                return max_val\n",
    "            else:\n",
    "                return val\n",
    "        \n",
    "        num_pos = len(perm_pos_coefs)\n",
    "        pos_ix = int((1-cutoff/2) * num_pos)\n",
    "        pos_ix = within(pos_ix + 1, num_pos - 1)\n",
    "        pos_c = perm_pos_coefs[pos_ix]\n",
    "        valid_pos[valid_pos < pos_c] = 0\n",
    "        \n",
    "        num_neg = len(perm_neg_coefs)\n",
    "        neg_ix = int((cutoff/2) * num_neg)\n",
    "        neg_ix = within(neg_ix - 1, num_neg - 1)\n",
    "        neg_c = perm_neg_coefs[neg_ix]\n",
    "        valid_neg[valid_neg > neg_c] = 0\n",
    "    \n",
    "    return flat_coefs, valid_pos, valid_neg, perm_pos_coefs, perm_neg_coefs\n",
    "\n",
    "_, valid_pos_atw, valid_neg_atw, _, _ = valid_coefs('atw_z', cutoff=None)\n",
    "_, valid_pos_adw, valid_neg_adw, _, _ = valid_coefs('adw_z', cutoff=None)\n"
   ]
  },
  {
   "cell_type": "code",
   "execution_count": 24,
   "metadata": {
    "collapsed": false
   },
   "outputs": [
    {
     "name": "stdout",
     "output_type": "stream",
     "text": [
      "(0.18081159134319452, -0.17758279915350988)\n",
      "(0.010827138217271368, -0.0066934507438968938)\n"
     ]
    }
   ],
   "source": [
    "print (np.sum(valid_pos_atw), np.sum(valid_neg_atw))\n",
    "print (np.sum(valid_pos_adw), np.sum(valid_neg_adw))"
   ]
  },
  {
   "cell_type": "code",
   "execution_count": 25,
   "metadata": {
    "collapsed": false
   },
   "outputs": [],
   "source": [
    "def mk_coeffs_mat(coeffs):\n",
    "    coeffs_mat = np.zeros((189, 189))\n",
    "    ix = 0\n",
    "    for i in range(189):\n",
    "        for j in range(i+1, 189):\n",
    "            coeffs_mat[i][j] = coeffs_mat[j][i] = coeffs[ix]\n",
    "            ix += 1\n",
    "    \n",
    "    assert np.all(coeffs_mat == coeffs_mat.T)\n",
    "    return coeffs_mat"
   ]
  },
  {
   "cell_type": "code",
   "execution_count": 26,
   "metadata": {
    "collapsed": true
   },
   "outputs": [],
   "source": [
    "atw_z = load_csv('atw_z_best_coefs.csv')"
   ]
  },
  {
   "cell_type": "code",
   "execution_count": 27,
   "metadata": {
    "collapsed": false
   },
   "outputs": [
    {
     "data": {
      "text/plain": [
       "array([-0.00021616, -0.00050868, -0.0036373 , ...,  0.00115162,\n",
       "       -0.00018692,  0.00203217])"
      ]
     },
     "execution_count": 27,
     "metadata": {},
     "output_type": "execute_result"
    }
   ],
   "source": [
    "atw_z"
   ]
  },
  {
   "cell_type": "code",
   "execution_count": 28,
   "metadata": {
    "collapsed": false
   },
   "outputs": [
    {
     "ename": "IndexError",
     "evalue": "index 4465 is out of bounds for axis 0 with size 4465",
     "output_type": "error",
     "traceback": [
      "\u001b[1;31m---------------------------------------------------------------------------\u001b[0m",
      "\u001b[1;31mIndexError\u001b[0m                                Traceback (most recent call last)",
      "\u001b[1;32m<ipython-input-28-d10c8d3763fe>\u001b[0m in \u001b[0;36m<module>\u001b[1;34m()\u001b[0m\n\u001b[1;32m----> 1\u001b[1;33m \u001b[0matw_z_mat\u001b[0m \u001b[1;33m=\u001b[0m \u001b[0mmk_coeffs_mat\u001b[0m\u001b[1;33m(\u001b[0m\u001b[0matw_z\u001b[0m\u001b[1;33m)\u001b[0m\u001b[1;33m\u001b[0m\u001b[0m\n\u001b[0m",
      "\u001b[1;32m<ipython-input-25-e77862a9e925>\u001b[0m in \u001b[0;36mmk_coeffs_mat\u001b[1;34m(coeffs)\u001b[0m\n\u001b[0;32m      4\u001b[0m     \u001b[1;32mfor\u001b[0m \u001b[0mi\u001b[0m \u001b[1;32min\u001b[0m \u001b[0mrange\u001b[0m\u001b[1;33m(\u001b[0m\u001b[1;36m189\u001b[0m\u001b[1;33m)\u001b[0m\u001b[1;33m:\u001b[0m\u001b[1;33m\u001b[0m\u001b[0m\n\u001b[0;32m      5\u001b[0m         \u001b[1;32mfor\u001b[0m \u001b[0mj\u001b[0m \u001b[1;32min\u001b[0m \u001b[0mrange\u001b[0m\u001b[1;33m(\u001b[0m\u001b[0mi\u001b[0m\u001b[1;33m+\u001b[0m\u001b[1;36m1\u001b[0m\u001b[1;33m,\u001b[0m \u001b[1;36m189\u001b[0m\u001b[1;33m)\u001b[0m\u001b[1;33m:\u001b[0m\u001b[1;33m\u001b[0m\u001b[0m\n\u001b[1;32m----> 6\u001b[1;33m             \u001b[0mcoeffs_mat\u001b[0m\u001b[1;33m[\u001b[0m\u001b[0mi\u001b[0m\u001b[1;33m]\u001b[0m\u001b[1;33m[\u001b[0m\u001b[0mj\u001b[0m\u001b[1;33m]\u001b[0m \u001b[1;33m=\u001b[0m \u001b[0mcoeffs_mat\u001b[0m\u001b[1;33m[\u001b[0m\u001b[0mj\u001b[0m\u001b[1;33m]\u001b[0m\u001b[1;33m[\u001b[0m\u001b[0mi\u001b[0m\u001b[1;33m]\u001b[0m \u001b[1;33m=\u001b[0m \u001b[0mcoeffs\u001b[0m\u001b[1;33m[\u001b[0m\u001b[0mix\u001b[0m\u001b[1;33m]\u001b[0m\u001b[1;33m\u001b[0m\u001b[0m\n\u001b[0m\u001b[0;32m      7\u001b[0m             \u001b[0mix\u001b[0m \u001b[1;33m+=\u001b[0m \u001b[1;36m1\u001b[0m\u001b[1;33m\u001b[0m\u001b[0m\n\u001b[0;32m      8\u001b[0m \u001b[1;33m\u001b[0m\u001b[0m\n",
      "\u001b[1;31mIndexError\u001b[0m: index 4465 is out of bounds for axis 0 with size 4465"
     ]
    }
   ],
   "source": [
    "atw_z_mat = mk_coeffs_mat(atw_z)"
   ]
  },
  {
   "cell_type": "code",
   "execution_count": 29,
   "metadata": {
    "collapsed": false
   },
   "outputs": [
    {
     "data": {
      "text/plain": [
       "array([-0.00021616, -0.00050868, -0.0036373 , ...,  0.00115162,\n",
       "       -0.00018692,  0.00203217])"
      ]
     },
     "execution_count": 29,
     "metadata": {},
     "output_type": "execute_result"
    }
   ],
   "source": [
    "atw_z"
   ]
  },
  {
   "cell_type": "code",
   "execution_count": 30,
   "metadata": {
    "collapsed": false
   },
   "outputs": [
    {
     "ename": "NameError",
     "evalue": "name 'sort' is not defined",
     "output_type": "error",
     "traceback": [
      "\u001b[1;31m---------------------------------------------------------------------------\u001b[0m",
      "\u001b[1;31mNameError\u001b[0m                                 Traceback (most recent call last)",
      "\u001b[1;32m<ipython-input-30-f16c6d55edb1>\u001b[0m in \u001b[0;36m<module>\u001b[1;34m()\u001b[0m\n\u001b[1;32m----> 1\u001b[1;33m \u001b[0msort\u001b[0m\u001b[1;33m(\u001b[0m\u001b[0matw_z\u001b[0m\u001b[1;33m)\u001b[0m\u001b[1;33m\u001b[0m\u001b[0m\n\u001b[0m",
      "\u001b[1;31mNameError\u001b[0m: name 'sort' is not defined"
     ]
    }
   ],
   "source": [
    "sort(atw_z)"
   ]
  },
  {
   "cell_type": "code",
   "execution_count": 32,
   "metadata": {
    "collapsed": false
   },
   "outputs": [
    {
     "name": "stdout",
     "output_type": "stream",
     "text": [
      "INFO:atw_z:results for atw_z\r\n",
      "INFO:atw_z:normalized: yes\r\n",
      "INFO:atw_z:best score: -0.0101360274636\r\n",
      "INFO:atw_z:best params: {'svr__C': 0.098454657585896929}\r\n",
      "INFO:atw_z:best score perms: -0.394349170977\r\n",
      "INFO:atw_z:p-value: 0.0990099009901\r\n",
      "WARNING:atw_z:p_value of %s >= .05\r\n",
      "INFO:adw_z:results for adw_z\r\n",
      "INFO:adw_z:normalized: yes\r\n",
      "INFO:adw_z:best score: 0.0107908601571\r\n",
      "INFO:adw_z:best params: {'svr__C': 0.0062987888851660616}\r\n",
      "INFO:adw_z:best score perms: -0.279855325332\r\n",
      "INFO:adw_z:p-value: 0.0792079207921\r\n",
      "WARNING:adw_z:p_value of %s >= .05\r\n"
     ]
    }
   ],
   "source": [
    "!cat {log_dir_f(\"search_results.log\")}"
   ]
  },
  {
   "cell_type": "code",
   "execution_count": null,
   "metadata": {
    "collapsed": true
   },
   "outputs": [],
   "source": []
  }
 ],
 "metadata": {
  "kernelspec": {
   "display_name": "Python 2",
   "language": "python",
   "name": "python2"
  },
  "language_info": {
   "codemirror_mode": {
    "name": "ipython",
    "version": 2
   },
   "file_extension": ".py",
   "mimetype": "text/x-python",
   "name": "python",
   "nbconvert_exporter": "python",
   "pygments_lexer": "ipython2",
   "version": "2.7.11"
  }
 },
 "nbformat": 4,
 "nbformat_minor": 0
}
