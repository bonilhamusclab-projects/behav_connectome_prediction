{
 "cells": [
  {
   "cell_type": "code",
   "execution_count": 1,
   "metadata": {
    "collapsed": true
   },
   "outputs": [],
   "source": [
    "%matplotlib inline\n",
    "from pylab import rcParams\n",
    "rcParams['figure.figsize'] = 10, 5"
   ]
  },
  {
   "cell_type": "code",
   "execution_count": 13,
   "metadata": {
    "collapsed": false
   },
   "outputs": [],
   "source": [
    "from __future__ import division\n",
    "\n",
    "import sys\n",
    "\n",
    "\n",
    "import matplotlib.pyplot as plt\n",
    "from nilearn import plotting\n",
    "import numpy as np\n",
    "import pandas as pd\n",
    "\n",
    "import sklearn\n",
    "from sklearn.cross_validation import ShuffleSplit\n",
    "from sklearn.pipeline import Pipeline\n",
    "from sklearn.preprocessing import scale\n",
    "from sklearn.svm import LinearSVR, LinearSVC\n",
    "\n",
    "import entrainment_pred"
   ]
  },
  {
   "cell_type": "code",
   "execution_count": 65,
   "metadata": {
    "collapsed": false
   },
   "outputs": [],
   "source": [
    "full_atw = pd.read_csv(\"data/step3/full_atw.csv\")\n",
    "data_atw, target_atw = entrainment_pred.separate(full_atw, 'atw_z')\n",
    "data_atw_df, target_atw_df = entrainment_pred.separate(full_atw, 'atw_diff_wpm')\n",
    "\n",
    "full_adw = pd.read_csv(\"data/step3/full_adw.csv\")\n",
    "data_adw, target_adw = entrainment_pred.separate(full_adw, 'adw_z')"
   ]
  },
  {
   "cell_type": "code",
   "execution_count": 119,
   "metadata": {
    "collapsed": true
   },
   "outputs": [],
   "source": [
    "def log_dir_f(f_name):\n",
    "    import os\n",
    "    return os.path.join(\"data/step4/both_hemi/\", f_name)\n",
    "\n",
    "def load_logged_csv(f_name):\n",
    "    return np.loadtxt(log_dir_f(f_name), delimiter=',')"
   ]
  },
  {
   "cell_type": "markdown",
   "metadata": {},
   "source": [
    "### Create Best Pipelines"
   ]
  },
  {
   "cell_type": "code",
   "execution_count": 115,
   "metadata": {
    "collapsed": false
   },
   "outputs": [
    {
     "name": "stdout",
     "output_type": "stream",
     "text": [
      "INFO:atw_z:best params: {'svr__C': 0.098454657585896929}\r\n",
      "INFO:atw_diff_wpm:best params: {'svr__C': 0.0062987888851660616}\r\n",
      "INFO:adw_z:best params: {'svr__C': 0.060487930870555311}\r\n"
     ]
    }
   ],
   "source": [
    "!cat {log_dir_f('search_results.log')} | grep \"best params:\""
   ]
  },
  {
   "cell_type": "code",
   "execution_count": 117,
   "metadata": {
    "collapsed": false
   },
   "outputs": [
    {
     "name": "stdout",
     "output_type": "stream",
     "text": [
      "INFO:atw_z:normalized: yes\r\n",
      "INFO:atw_diff_wpm:normalized: no\r\n",
      "INFO:adw_z:normalized: yes\r\n"
     ]
    }
   ],
   "source": [
    "!cat {log_dir_f('search_results.log')} | grep \"norm\""
   ]
  },
  {
   "cell_type": "code",
   "execution_count": 67,
   "metadata": {
    "collapsed": false
   },
   "outputs": [],
   "source": [
    "def create_shuffle_split(target):\n",
    "    return ShuffleSplit(len(target), \n",
    "                        n_iter=100, \n",
    "                        test_size=1/6.0, random_state=1234)\n",
    "\n",
    "\n",
    "data_atw = scale(data_atw)\n",
    "svr_atw = LinearSVR(C=0.098454657585896929)\n",
    "pipe_atw = Pipeline([('svr', svr_atw)])\n",
    "cv_atw = create_shuffle_split(target_atw)\n",
    "\n",
    "data_atw_df = data_atw_df.get_values()\n",
    "svr_atw_df = LinearSVR(C=0.0062987888851660616)\n",
    "pipe_atw_df = Pipeline([('svr', svr_atw_df)])\n",
    "cv_atw_df = create_shuffle_split(target_atw_df)\n",
    "\n",
    "data_adw = scale(data_adw)\n",
    "svr_adw = LinearSVR(C=0.060487930870555311)\n",
    "pipe_adw = Pipeline([('svr', svr_adw)])\n",
    "cv_adw = create_shuffle_split(target_adw)"
   ]
  },
  {
   "cell_type": "markdown",
   "metadata": {},
   "source": [
    "### Calculate Coefficients and Plot Closeness to Fit"
   ]
  },
  {
   "cell_type": "code",
   "execution_count": 22,
   "metadata": {
    "collapsed": false
   },
   "outputs": [],
   "source": [
    "def plot(predict_hist, target, title, sort=True, agg=np.mean, save=True):\n",
    "    pmns = np.array([agg(predict_hist[i]) for i in predict_hist.keys()])\n",
    "    \n",
    "    plt_indices = np.argsort(target) if sort else x\n",
    "    plt_indices = plt_indices[plt_indices.apply(lambda i: len(predict_hist[i]) > 0)]\n",
    "    \n",
    "    x = np.array(range(len(plt_indices)))\n",
    "    \n",
    "    pmns = pmns[plt_indices]\n",
    "    target = target.get_values()[plt_indices]\n",
    "    \n",
    "    plt.scatter(x, pmns, c='y')\n",
    "    \n",
    "    p = plt.plot(x, target, marker='*')\n",
    "    plt.title(title)\n",
    "    plt.legend([\"truth\", \"mean pred.\"], bbox_to_anchor=[.9, 1.0])\n",
    "    msg = 'corr: %.2f' % np.corrcoef(\n",
    "        pmns, target)[0][1]\n",
    "    plt.text(.6, .95, msg, verticalalignment='top', fontsize=12, \n",
    "         horizontalalignment='right', transform=p[0].axes.transAxes)\n",
    "    \n",
    "    m, b = np.polyfit(x, pmns, 1)\n",
    "    plt.plot(x, m*x + b, '-')\n",
    "    \n",
    "    if save:\n",
    "        plt.savefig(title + '.jpg')"
   ]
  },
  {
   "cell_type": "code",
   "execution_count": 23,
   "metadata": {
    "collapsed": true
   },
   "outputs": [],
   "source": [
    "def calc_coeffs(best_estimator, cv, data, target, verbose=True):\n",
    "\n",
    "    def _calc_coeffs(predicted_hist):\n",
    "        n_iter = cv.n_iter\n",
    "        if verbose: print('-' * n_iter)\n",
    "\n",
    "        svr = best_estimator.named_steps['svr']\n",
    "        def fit(train):\n",
    "            best_estimator.fit(data[train], target[train])\n",
    "\n",
    "        def predict(test):\n",
    "            predicted = best_estimator.predict(data[test]).tolist()\n",
    "            for i in test:\n",
    "                predicted_hist[i].append(predicted.pop(0))\n",
    "\n",
    "        def coeffs_fn():\n",
    "            if verbose: sys.stdout.write('#')\n",
    "            return svr.coef_.copy()\n",
    "\n",
    "        coeffs = entrainment_pred.calc_coeffs(cv, fit, coeffs_fn, predict)\n",
    "        return coeffs, predicted_hist\n",
    "    \n",
    "    return _calc_coeffs({i:[] for i in range(len(target))})\n",
    "    "
   ]
  },
  {
   "cell_type": "code",
   "execution_count": 68,
   "metadata": {
    "collapsed": false,
    "scrolled": true
   },
   "outputs": [
    {
     "name": "stdout",
     "output_type": "stream",
     "text": [
      "----------------------------------------------------------------------------------------------------\n",
      "####################################################################################################----------------------------------------------------------------------------------------------------\n",
      "####################################################################################################----------------------------------------------------------------------------------------------------\n",
      "####################################################################################################"
     ]
    }
   ],
   "source": [
    "coeffs_adw, predict_hist_adw = calc_coeffs(pipe_adw, cv_adw, \n",
    "                                           data_adw, target_adw)\n",
    "coeffs_atw, predict_hist_atw = calc_coeffs(pipe_atw, cv_atw, \n",
    "                                           data_atw, target_atw)\n",
    "coeffs_atw_df, predict_hist_atw_df = calc_coeffs(pipe_atw_df, cv_atw_df, \n",
    "                                           data_atw_df, target_atw_df)"
   ]
  },
  {
   "cell_type": "code",
   "execution_count": 69,
   "metadata": {
    "collapsed": false,
    "scrolled": true
   },
   "outputs": [
    {
     "data": {
      "image/png": "[encoded data removed]",
      "text/plain": [
       "<matplotlib.figure.Figure at 0x7ff5992c58d0>"
      ]
     },
     "metadata": {},
     "output_type": "display_data"
    }
   ],
   "source": [
    "plot(predict_hist_adw, target_adw, 'Average Different Words')"
   ]
  },
  {
   "cell_type": "code",
   "execution_count": 70,
   "metadata": {
    "collapsed": false
   },
   "outputs": [
    {
     "data": {
      "image/png": "[encoded data removed]",
      "text/plain": [
       "<matplotlib.figure.Figure at 0x7ff5990d1310>"
      ]
     },
     "metadata": {},
     "output_type": "display_data"
    }
   ],
   "source": [
    "plot(predict_hist_atw, target_atw, 'Average Total Words')"
   ]
  },
  {
   "cell_type": "code",
   "execution_count": 71,
   "metadata": {
    "collapsed": false
   },
   "outputs": [
    {
     "data": {
      "image/png": "[encoded data removed]",
      "text/plain": [
       "<matplotlib.figure.Figure at 0x7ff5991f4a50>"
      ]
     },
     "metadata": {},
     "output_type": "display_data"
    }
   ],
   "source": [
    "plot(predict_hist_atw_df, target_atw_df, 'Average Total Words Diff WPM')"
   ]
  },
  {
   "cell_type": "markdown",
   "metadata": {},
   "source": [
    "### Plot Permutation Curve"
   ]
  },
  {
   "cell_type": "code",
   "execution_count": 118,
   "metadata": {
    "collapsed": false
   },
   "outputs": [
    {
     "name": "stdout",
     "output_type": "stream",
     "text": [
      "INFO:atw_z:best score: 0.0841486680109\r\n",
      "INFO:atw_diff_wpm:best score: 0.169099889956\r\n",
      "INFO:adw_z:best score: 0.0997514050901\r\n"
     ]
    }
   ],
   "source": [
    "!cat {log_dir_f(\"search_results.log\")} | grep \"best score:\""
   ]
  },
  {
   "cell_type": "code",
   "execution_count": 34,
   "metadata": {
    "collapsed": true
   },
   "outputs": [],
   "source": [
    "best_score_atw = 0.0841486680109\n",
    "best_score_atw_df = 0.169099889956\n",
    "best_score_adw = 0.0997514050901"
   ]
  },
  {
   "cell_type": "code",
   "execution_count": 56,
   "metadata": {
    "collapsed": false
   },
   "outputs": [],
   "source": [
    "permute_pred_scores_atw = load_logged_csv('atw_z_permute_pred_scores.csv')\n",
    "permute_pred_scores_atw_df = load_logged_csv('atw_diff_wpm_permute_pred_scores.csv')\n",
    "permute_pred_scores_adw = load_logged_csv('adw_z_permute_pred_scores.csv')"
   ]
  },
  {
   "cell_type": "code",
   "execution_count": 59,
   "metadata": {
    "collapsed": false
   },
   "outputs": [],
   "source": [
    "def plot_perm_scores(permute_scores, best_score, label):\n",
    "    plt.hist(permute_scores, 20, label='Permutation scores ' + label);\n",
    "    ylim = plt.ylim()\n",
    "    plt.plot(2 * [best_score], ylim, '--g', linewidth=3,\n",
    "             label='Classification Score')\n",
    "\n",
    "    plt.ylim(ylim);\n",
    "    plt.legend();\n",
    "    plt.xlabel('Score');"
   ]
  },
  {
   "cell_type": "code",
   "execution_count": 60,
   "metadata": {
    "collapsed": false
   },
   "outputs": [
    {
     "data": {
      "image/png": "[encoded data removed]",
      "text/plain": [
       "<matplotlib.figure.Figure at 0x7ff59925e190>"
      ]
     },
     "metadata": {},
     "output_type": "display_data"
    }
   ],
   "source": [
    "plot_perm_scores(permute_pred_scores_adw, best_score_adw, \"Avg Diff Words Z\")"
   ]
  },
  {
   "cell_type": "code",
   "execution_count": 61,
   "metadata": {
    "collapsed": false
   },
   "outputs": [
    {
     "data": {
      "image/png": "[encoded data removed]",
      "text/plain": [
       "<matplotlib.figure.Figure at 0x7ff5993722d0>"
      ]
     },
     "metadata": {},
     "output_type": "display_data"
    }
   ],
   "source": [
    "plot_perm_scores(permute_pred_scores_atw, best_score_atw, \"Avg Total Words Z\")"
   ]
  },
  {
   "cell_type": "code",
   "execution_count": 62,
   "metadata": {
    "collapsed": false
   },
   "outputs": [
    {
     "data": {
      "image/png": "[encoded data removed]",
      "text/plain": [
       "<matplotlib.figure.Figure at 0x7ff599742090>"
      ]
     },
     "metadata": {},
     "output_type": "display_data"
    }
   ],
   "source": [
    "plot_perm_scores(permute_pred_scores_atw_df, best_score_atw_df, \"Avg Total Words Diff WPM\")"
   ]
  },
  {
   "cell_type": "markdown",
   "metadata": {},
   "source": [
    "### Get Best Coefs"
   ]
  },
  {
   "cell_type": "code",
   "execution_count": 122,
   "metadata": {
    "collapsed": false
   },
   "outputs": [],
   "source": [
    "def load_csv(f_name):\n",
    "    return load_logged_csv(f_name)\n",
    "\n",
    "def valid_coefs(prefix, cutoff=.05):\n",
    "    flat_coefs = load_csv(prefix + '_best_coefs.csv')\n",
    "    perm_pos_coefs = np.sort(load_csv(prefix + '_permute_max_coefs.csv'))\n",
    "    perm_neg_coefs = np.sort(load_csv(prefix + '_permute_min_coefs.csv'))\n",
    "    \n",
    "    valid_pos = flat_coefs.copy()\n",
    "    valid_pos[valid_pos < 0] = 0\n",
    "    \n",
    "    valid_neg = flat_coefs.copy()\n",
    "    valid_neg[valid_neg > 0] = 0\n",
    "    \n",
    "    if cutoff is not None:\n",
    "        def within(val, max_val):\n",
    "            if val < 0:\n",
    "                return 0\n",
    "            elif val > max_val:\n",
    "                return max_val\n",
    "            else:\n",
    "                return val\n",
    "        \n",
    "        num_pos = len(perm_pos_coefs)\n",
    "        pos_ix = int((1-cutoff/2) * num_pos)\n",
    "        pos_ix = within(pos_ix + 1, num_pos - 1)\n",
    "        pos_c = perm_pos_coefs[pos_ix]\n",
    "        valid_pos[valid_pos < pos_c] = 0\n",
    "        \n",
    "        num_neg = len(perm_neg_coefs)\n",
    "        neg_ix = int((cutoff/2) * num_neg)\n",
    "        neg_ix = within(neg_ix - 1, num_neg - 1)\n",
    "        neg_c = perm_neg_coefs[neg_ix]\n",
    "        valid_neg[valid_neg > neg_c] = 0\n",
    "    \n",
    "    return flat_coefs, valid_pos, valid_neg, perm_pos_coefs, perm_neg_coefs\n",
    "\n",
    "_, valid_pos_atw, valid_neg_atw, _, _ = valid_coefs('atw_z', cutoff=None)\n",
    "_, valid_pos_adw, valid_neg_adw, _, _ = valid_coefs('adw_z', cutoff=None)\n",
    "_, valid_pos_atw_df, valid_neg_atw_df, _, _ = valid_coefs('atw_diff_wpm', cutoff=None)\n"
   ]
  },
  {
   "cell_type": "code",
   "execution_count": 98,
   "metadata": {
    "collapsed": false
   },
   "outputs": [
    {
     "name": "stdout",
     "output_type": "stream",
     "text": [
      "(3.2530654492562885, -3.33429573481886)\n",
      "(3.1406509956470323, -3.3878323887529787)\n",
      "(34.590168209516577, -44.076925108510558)\n"
     ]
    }
   ],
   "source": [
    "print (np.sum(valid_pos_atw), np.sum(valid_neg_atw))\n",
    "print (np.sum(valid_pos_adw), np.sum(valid_neg_adw))\n",
    "print (np.sum(valid_pos_atw_df), np.sum(valid_neg_atw_df))"
   ]
  },
  {
   "cell_type": "code",
   "execution_count": 134,
   "metadata": {
    "collapsed": false
   },
   "outputs": [],
   "source": [
    "def mk_coeffs_mat(coeffs):\n",
    "    coeffs_mat = np.zeros((189, 189))\n",
    "    ix = 0\n",
    "    for i in range(189):\n",
    "        for j in range(i+1, 189):\n",
    "            coeffs_mat[i][j] = coeffs_mat[j][i] = coeffs[ix]\n",
    "            ix += 1\n",
    "    \n",
    "    assert np.all(coeffs_mat == coeffs_mat.T)\n",
    "    return coeffs_mat"
   ]
  },
  {
   "cell_type": "markdown",
   "metadata": {},
   "source": [
    "### Determine Best Edge Connections"
   ]
  },
  {
   "cell_type": "code",
   "execution_count": 253,
   "metadata": {
    "collapsed": false
   },
   "outputs": [],
   "source": [
    "def create_edge_conn_df(coefs_fname, edge_conns):\n",
    "    coefs = load_csv(coefs_fname)\n",
    "    \n",
    "    def conn_to_name(conn):\n",
    "        jhu_info = entrainment_pred.all_jhu_coordinates()[conn]\n",
    "        left = jhu_info[\"left\"]\n",
    "        right = jhu_info['right']\n",
    "        return \"%s--%s\" % (left[\"name\"], right[\"name\"])\n",
    "    \n",
    "    names = [conn_to_name(c) for c in edge_conns]\n",
    "    ret = pd.DataFrame(dict(coef=coefs, abs_coef=np.abs(coefs), \n",
    "                            edge_conn=edge_conns, name=names))\n",
    "    ret = ret.sort(\"abs_coef\", ascending=False)\n",
    "    ret.reset_index(inplace=True, drop=True)\n",
    "    return ret"
   ]
  },
  {
   "cell_type": "code",
   "execution_count": 254,
   "metadata": {
    "collapsed": false
   },
   "outputs": [
    {
     "name": "stderr",
     "output_type": "stream",
     "text": [
      "/home/lb_lab/anaconda2/lib/python2.7/site-packages/ipykernel/__main__.py:13: FutureWarning: sort(columns=....) is deprecated, use sort_values(by=.....)\n"
     ]
    }
   ],
   "source": [
    "edge_conn_df_atw = create_edge_conn_df('atw_z_best_coefs.csv',\n",
    "                                      filter(entrainment_pred.is_data_col, full_atw))\n",
    "edge_conn_df_adw = create_edge_conn_df('adw_z_best_coefs.csv',\n",
    "                                      filter(entrainment_pred.is_data_col, full_adw))\n",
    "edge_conn_df_atw_wpm = create_edge_conn_df('atw_diff_wpm_best_coefs.csv',\n",
    "                                      filter(entrainment_pred.is_data_col, full_adw))"
   ]
  },
  {
   "cell_type": "code",
   "execution_count": 255,
   "metadata": {
    "collapsed": false
   },
   "outputs": [
    {
     "data": {
      "text/html": [
       "<div>\n",
       "<table border=\"1\" class=\"dataframe\">\n",
       "  <thead>\n",
       "    <tr style=\"text-align: right;\">\n",
       "      <th></th>\n",
       "      <th>abs_coef</th>\n",
       "      <th>coef</th>\n",
       "      <th>edge_conn</th>\n",
       "      <th>name</th>\n",
       "    </tr>\n",
       "  </thead>\n",
       "  <tbody>\n",
       "    <tr>\n",
       "      <th>0</th>\n",
       "      <td>0.002703</td>\n",
       "      <td>0.002703</td>\n",
       "      <td>68_78</td>\n",
       "      <td>PCC_L--Put_L</td>\n",
       "    </tr>\n",
       "    <tr>\n",
       "      <th>1</th>\n",
       "      <td>0.002257</td>\n",
       "      <td>0.002257</td>\n",
       "      <td>64_167</td>\n",
       "      <td>subgenual_ACC_L--Mammillary_R</td>\n",
       "    </tr>\n",
       "    <tr>\n",
       "      <th>2</th>\n",
       "      <td>0.002178</td>\n",
       "      <td>0.002178</td>\n",
       "      <td>67_165</td>\n",
       "      <td>dorsal_ACC_R--OlfactoryRadiation_R</td>\n",
       "    </tr>\n",
       "    <tr>\n",
       "      <th>3</th>\n",
       "      <td>0.002106</td>\n",
       "      <td>-0.002106</td>\n",
       "      <td>121_184</td>\n",
       "      <td>PCR_R--PSTG_R</td>\n",
       "    </tr>\n",
       "    <tr>\n",
       "      <th>4</th>\n",
       "      <td>0.002064</td>\n",
       "      <td>-0.002064</td>\n",
       "      <td>73_174</td>\n",
       "      <td>Amyg_R--LV_temporal_L</td>\n",
       "    </tr>\n",
       "    <tr>\n",
       "      <th>5</th>\n",
       "      <td>0.002063</td>\n",
       "      <td>0.002063</td>\n",
       "      <td>39_71</td>\n",
       "      <td>MTG_R--Ins_R</td>\n",
       "    </tr>\n",
       "    <tr>\n",
       "      <th>6</th>\n",
       "      <td>0.001980</td>\n",
       "      <td>0.001980</td>\n",
       "      <td>32_100</td>\n",
       "      <td>PrCu_L--CST_L</td>\n",
       "    </tr>\n",
       "    <tr>\n",
       "      <th>7</th>\n",
       "      <td>0.001964</td>\n",
       "      <td>0.001964</td>\n",
       "      <td>74_75</td>\n",
       "      <td>Hippo_L--Hippo_R</td>\n",
       "    </tr>\n",
       "    <tr>\n",
       "      <th>8</th>\n",
       "      <td>0.001942</td>\n",
       "      <td>-0.001942</td>\n",
       "      <td>75_85</td>\n",
       "      <td>Hippo_R--Hypothalamus_R</td>\n",
       "    </tr>\n",
       "    <tr>\n",
       "      <th>9</th>\n",
       "      <td>0.001910</td>\n",
       "      <td>-0.001910</td>\n",
       "      <td>121_158</td>\n",
       "      <td>PCR_R--AnsaLenticularis_L</td>\n",
       "    </tr>\n",
       "  </tbody>\n",
       "</table>\n",
       "</div>"
      ],
      "text/plain": [
       "   abs_coef      coef edge_conn                                name\n",
       "0  0.002703  0.002703     68_78                        PCC_L--Put_L\n",
       "1  0.002257  0.002257    64_167       subgenual_ACC_L--Mammillary_R\n",
       "2  0.002178  0.002178    67_165  dorsal_ACC_R--OlfactoryRadiation_R\n",
       "3  0.002106 -0.002106   121_184                       PCR_R--PSTG_R\n",
       "4  0.002064 -0.002064    73_174               Amyg_R--LV_temporal_L\n",
       "5  0.002063  0.002063     39_71                        MTG_R--Ins_R\n",
       "6  0.001980  0.001980    32_100                       PrCu_L--CST_L\n",
       "7  0.001964  0.001964     74_75                    Hippo_L--Hippo_R\n",
       "8  0.001942 -0.001942     75_85             Hippo_R--Hypothalamus_R\n",
       "9  0.001910 -0.001910   121_158           PCR_R--AnsaLenticularis_L"
      ]
     },
     "execution_count": 255,
     "metadata": {},
     "output_type": "execute_result"
    }
   ],
   "source": [
    "edge_conn_df_atw.iloc[0:10]"
   ]
  },
  {
   "cell_type": "code",
   "execution_count": 256,
   "metadata": {
    "collapsed": false
   },
   "outputs": [
    {
     "data": {
      "text/html": [
       "<div>\n",
       "<table border=\"1\" class=\"dataframe\">\n",
       "  <thead>\n",
       "    <tr style=\"text-align: right;\">\n",
       "      <th></th>\n",
       "      <th>abs_coef</th>\n",
       "      <th>coef</th>\n",
       "      <th>edge_conn</th>\n",
       "      <th>name</th>\n",
       "    </tr>\n",
       "  </thead>\n",
       "  <tbody>\n",
       "    <tr>\n",
       "      <th>0</th>\n",
       "      <td>0.221224</td>\n",
       "      <td>-0.221224</td>\n",
       "      <td>13_144</td>\n",
       "      <td>IFG_orbitalis_R--Fx_L</td>\n",
       "    </tr>\n",
       "    <tr>\n",
       "      <th>1</th>\n",
       "      <td>0.218223</td>\n",
       "      <td>-0.218223</td>\n",
       "      <td>171_175</td>\n",
       "      <td>LV_body_L--LV_frontal_R</td>\n",
       "    </tr>\n",
       "    <tr>\n",
       "      <th>2</th>\n",
       "      <td>0.213568</td>\n",
       "      <td>-0.213568</td>\n",
       "      <td>103_167</td>\n",
       "      <td>SCP_R--Mammillary_R</td>\n",
       "    </tr>\n",
       "    <tr>\n",
       "      <th>3</th>\n",
       "      <td>0.201257</td>\n",
       "      <td>-0.201257</td>\n",
       "      <td>11_18</td>\n",
       "      <td>IFG_opercularis_R--MFOG_L</td>\n",
       "    </tr>\n",
       "    <tr>\n",
       "      <th>4</th>\n",
       "      <td>0.201080</td>\n",
       "      <td>0.201080</td>\n",
       "      <td>114_116</td>\n",
       "      <td>Medulla_L--ACR_L</td>\n",
       "    </tr>\n",
       "    <tr>\n",
       "      <th>5</th>\n",
       "      <td>0.190009</td>\n",
       "      <td>0.190009</td>\n",
       "      <td>103_139</td>\n",
       "      <td>SCP_R--CGC_R</td>\n",
       "    </tr>\n",
       "    <tr>\n",
       "      <th>6</th>\n",
       "      <td>0.181691</td>\n",
       "      <td>0.181691</td>\n",
       "      <td>28_73</td>\n",
       "      <td>SMG_L--Amyg_R</td>\n",
       "    </tr>\n",
       "    <tr>\n",
       "      <th>7</th>\n",
       "      <td>0.176861</td>\n",
       "      <td>-0.176861</td>\n",
       "      <td>27_92</td>\n",
       "      <td>SPG_R--Snigra_L</td>\n",
       "    </tr>\n",
       "    <tr>\n",
       "      <th>8</th>\n",
       "      <td>0.171803</td>\n",
       "      <td>0.171803</td>\n",
       "      <td>54_136</td>\n",
       "      <td>IOG_L--EC_L</td>\n",
       "    </tr>\n",
       "    <tr>\n",
       "      <th>9</th>\n",
       "      <td>0.171596</td>\n",
       "      <td>-0.171596</td>\n",
       "      <td>6_74</td>\n",
       "      <td>MFG_L--Hippo_L</td>\n",
       "    </tr>\n",
       "  </tbody>\n",
       "</table>\n",
       "</div>"
      ],
      "text/plain": [
       "   abs_coef      coef edge_conn                       name\n",
       "0  0.221224 -0.221224    13_144      IFG_orbitalis_R--Fx_L\n",
       "1  0.218223 -0.218223   171_175    LV_body_L--LV_frontal_R\n",
       "2  0.213568 -0.213568   103_167        SCP_R--Mammillary_R\n",
       "3  0.201257 -0.201257     11_18  IFG_opercularis_R--MFOG_L\n",
       "4  0.201080  0.201080   114_116           Medulla_L--ACR_L\n",
       "5  0.190009  0.190009   103_139               SCP_R--CGC_R\n",
       "6  0.181691  0.181691     28_73              SMG_L--Amyg_R\n",
       "7  0.176861 -0.176861     27_92            SPG_R--Snigra_L\n",
       "8  0.171803  0.171803    54_136                IOG_L--EC_L\n",
       "9  0.171596 -0.171596      6_74             MFG_L--Hippo_L"
      ]
     },
     "execution_count": 256,
     "metadata": {},
     "output_type": "execute_result"
    }
   ],
   "source": [
    "edge_conn_df_atw_wpm.iloc[0:10]"
   ]
  },
  {
   "cell_type": "code",
   "execution_count": 279,
   "metadata": {
    "collapsed": false
   },
   "outputs": [],
   "source": [
    "def calc_roi_stats(df):\n",
    "    roi_stats = dict()\n",
    "    def update_counts(roi, name, rank, coef):\n",
    "        curr = roi_stats.get(roi, dict())\n",
    "        curr['name'] = name\n",
    "        curr['roi'] = roi\n",
    "        curr['coef'] = curr.get('coef', []) + [coef]\n",
    "        curr['rank'] = curr.get('rank', []) + [rank]\n",
    "        roi_stats[roi] = curr\n",
    "    \n",
    "    for row in df.iterrows():\n",
    "        rank, row_info = row\n",
    "        coef, edge_conn, name = row_info[[\"coef\", \"edge_conn\", \"name\"]]\n",
    "        l_name, r_name = name.split(\"--\")\n",
    "        left, right = edge_conn.split(\"_\")\n",
    "        \n",
    "        update_counts(int(left), l_name, rank, coef)\n",
    "        update_counts(int(right), r_name, rank, coef)\n",
    "        \n",
    "    ret_data = [\n",
    "            dict(\n",
    "            name=i['name'], \n",
    "            roi=i['roi'], \n",
    "            coef_med=np.median(i['coef']),\n",
    "            coef_std=np.std(i['coef']),\n",
    "            coef_mean=np.mean(i['coef']),\n",
    "            abs_coef_med=np.abs(np.median(i['coef'])),\n",
    "            abs_coef_mean=np.abs(np.mean(i['coef'])),\n",
    "            rank_med=np.median(i['rank']),\n",
    "            rank_std=np.std(i['rank']),\n",
    "            rank_mean=np.mean(i['rank']))\n",
    "            for i in roi_stats.itervalues()\n",
    "        ]\n",
    "    return pd.DataFrame(ret_data).sort(\"abs_coef_med\", ascending=False)\n",
    "        "
   ]
  },
  {
   "cell_type": "code",
   "execution_count": 280,
   "metadata": {
    "collapsed": false
   },
   "outputs": [
    {
     "name": "stderr",
     "output_type": "stream",
     "text": [
      "/home/lb_lab/anaconda2/lib/python2.7/site-packages/ipykernel/__main__.py:34: FutureWarning: sort(columns=....) is deprecated, use sort_values(by=.....)\n"
     ]
    }
   ],
   "source": [
    "roi_stats_atw = calc_roi_stats(edge_conn_df_atw)"
   ]
  },
  {
   "cell_type": "code",
   "execution_count": 281,
   "metadata": {
    "collapsed": false,
    "scrolled": true
   },
   "outputs": [
    {
     "data": {
      "text/html": [
       "<div>\n",
       "<table border=\"1\" class=\"dataframe\">\n",
       "  <thead>\n",
       "    <tr style=\"text-align: right;\">\n",
       "      <th></th>\n",
       "      <th>abs_coef_mean</th>\n",
       "      <th>abs_coef_med</th>\n",
       "      <th>coef_mean</th>\n",
       "      <th>coef_med</th>\n",
       "      <th>coef_std</th>\n",
       "      <th>name</th>\n",
       "      <th>rank_mean</th>\n",
       "      <th>rank_med</th>\n",
       "      <th>rank_std</th>\n",
       "      <th>roi</th>\n",
       "    </tr>\n",
       "  </thead>\n",
       "  <tbody>\n",
       "    <tr>\n",
       "      <th>43</th>\n",
       "      <td>0.000105</td>\n",
       "      <td>0.000105</td>\n",
       "      <td>-0.000105</td>\n",
       "      <td>-0.000105</td>\n",
       "      <td>0.000537</td>\n",
       "      <td>ITG_R</td>\n",
       "      <td>8316.718085</td>\n",
       "      <td>8196.5</td>\n",
       "      <td>5076.706753</td>\n",
       "      <td>43</td>\n",
       "    </tr>\n",
       "    <tr>\n",
       "      <th>97</th>\n",
       "      <td>0.000094</td>\n",
       "      <td>0.000082</td>\n",
       "      <td>0.000094</td>\n",
       "      <td>0.000082</td>\n",
       "      <td>0.000454</td>\n",
       "      <td>CP_R</td>\n",
       "      <td>9084.845745</td>\n",
       "      <td>9395.5</td>\n",
       "      <td>4806.618884</td>\n",
       "      <td>97</td>\n",
       "    </tr>\n",
       "    <tr>\n",
       "      <th>163</th>\n",
       "      <td>0.000086</td>\n",
       "      <td>0.000078</td>\n",
       "      <td>-0.000086</td>\n",
       "      <td>-0.000078</td>\n",
       "      <td>0.000480</td>\n",
       "      <td>LenticularFasc_R</td>\n",
       "      <td>8347.335106</td>\n",
       "      <td>7921.5</td>\n",
       "      <td>4823.295225</td>\n",
       "      <td>163</td>\n",
       "    </tr>\n",
       "    <tr>\n",
       "      <th>9</th>\n",
       "      <td>0.000039</td>\n",
       "      <td>0.000076</td>\n",
       "      <td>0.000039</td>\n",
       "      <td>0.000076</td>\n",
       "      <td>0.000478</td>\n",
       "      <td>MFG_DPFC_R</td>\n",
       "      <td>8778.239362</td>\n",
       "      <td>8671.0</td>\n",
       "      <td>5119.196081</td>\n",
       "      <td>9</td>\n",
       "    </tr>\n",
       "    <tr>\n",
       "      <th>138</th>\n",
       "      <td>0.000069</td>\n",
       "      <td>0.000073</td>\n",
       "      <td>0.000069</td>\n",
       "      <td>0.000073</td>\n",
       "      <td>0.000493</td>\n",
       "      <td>CGC_L</td>\n",
       "      <td>8750.500000</td>\n",
       "      <td>8746.0</td>\n",
       "      <td>5150.356590</td>\n",
       "      <td>138</td>\n",
       "    </tr>\n",
       "    <tr>\n",
       "      <th>18</th>\n",
       "      <td>0.000088</td>\n",
       "      <td>0.000072</td>\n",
       "      <td>-0.000088</td>\n",
       "      <td>-0.000072</td>\n",
       "      <td>0.000526</td>\n",
       "      <td>MFOG_L</td>\n",
       "      <td>8170.308511</td>\n",
       "      <td>7552.5</td>\n",
       "      <td>5223.356189</td>\n",
       "      <td>18</td>\n",
       "    </tr>\n",
       "    <tr>\n",
       "      <th>117</th>\n",
       "      <td>0.000075</td>\n",
       "      <td>0.000071</td>\n",
       "      <td>-0.000075</td>\n",
       "      <td>-0.000071</td>\n",
       "      <td>0.000521</td>\n",
       "      <td>ACR_R</td>\n",
       "      <td>8529.494681</td>\n",
       "      <td>8123.5</td>\n",
       "      <td>5159.843557</td>\n",
       "      <td>117</td>\n",
       "    </tr>\n",
       "    <tr>\n",
       "      <th>47</th>\n",
       "      <td>0.000077</td>\n",
       "      <td>0.000068</td>\n",
       "      <td>0.000077</td>\n",
       "      <td>0.000068</td>\n",
       "      <td>0.000519</td>\n",
       "      <td>ENT_R</td>\n",
       "      <td>8614.909574</td>\n",
       "      <td>8595.0</td>\n",
       "      <td>5281.833756</td>\n",
       "      <td>47</td>\n",
       "    </tr>\n",
       "    <tr>\n",
       "      <th>150</th>\n",
       "      <td>0.000092</td>\n",
       "      <td>0.000066</td>\n",
       "      <td>-0.000092</td>\n",
       "      <td>-0.000066</td>\n",
       "      <td>0.000501</td>\n",
       "      <td>SS_L</td>\n",
       "      <td>9004.409574</td>\n",
       "      <td>9407.5</td>\n",
       "      <td>5084.078469</td>\n",
       "      <td>150</td>\n",
       "    </tr>\n",
       "    <tr>\n",
       "      <th>83</th>\n",
       "      <td>0.000056</td>\n",
       "      <td>0.000064</td>\n",
       "      <td>0.000056</td>\n",
       "      <td>0.000064</td>\n",
       "      <td>0.000511</td>\n",
       "      <td>Thal_R</td>\n",
       "      <td>8075.037234</td>\n",
       "      <td>7742.0</td>\n",
       "      <td>4882.774161</td>\n",
       "      <td>83</td>\n",
       "    </tr>\n",
       "  </tbody>\n",
       "</table>\n",
       "</div>"
      ],
      "text/plain": [
       "     abs_coef_mean  abs_coef_med  coef_mean  coef_med  coef_std  \\\n",
       "43        0.000105      0.000105  -0.000105 -0.000105  0.000537   \n",
       "97        0.000094      0.000082   0.000094  0.000082  0.000454   \n",
       "163       0.000086      0.000078  -0.000086 -0.000078  0.000480   \n",
       "9         0.000039      0.000076   0.000039  0.000076  0.000478   \n",
       "138       0.000069      0.000073   0.000069  0.000073  0.000493   \n",
       "18        0.000088      0.000072  -0.000088 -0.000072  0.000526   \n",
       "117       0.000075      0.000071  -0.000075 -0.000071  0.000521   \n",
       "47        0.000077      0.000068   0.000077  0.000068  0.000519   \n",
       "150       0.000092      0.000066  -0.000092 -0.000066  0.000501   \n",
       "83        0.000056      0.000064   0.000056  0.000064  0.000511   \n",
       "\n",
       "                 name    rank_mean  rank_med     rank_std  roi  \n",
       "43              ITG_R  8316.718085    8196.5  5076.706753   43  \n",
       "97               CP_R  9084.845745    9395.5  4806.618884   97  \n",
       "163  LenticularFasc_R  8347.335106    7921.5  4823.295225  163  \n",
       "9          MFG_DPFC_R  8778.239362    8671.0  5119.196081    9  \n",
       "138             CGC_L  8750.500000    8746.0  5150.356590  138  \n",
       "18             MFOG_L  8170.308511    7552.5  5223.356189   18  \n",
       "117             ACR_R  8529.494681    8123.5  5159.843557  117  \n",
       "47              ENT_R  8614.909574    8595.0  5281.833756   47  \n",
       "150              SS_L  9004.409574    9407.5  5084.078469  150  \n",
       "83             Thal_R  8075.037234    7742.0  4882.774161   83  "
      ]
     },
     "execution_count": 281,
     "metadata": {},
     "output_type": "execute_result"
    }
   ],
   "source": [
    "roi_stats_atw.iloc[:10, :]"
   ]
  },
  {
   "cell_type": "code",
   "execution_count": 282,
   "metadata": {
    "collapsed": false
   },
   "outputs": [
    {
     "name": "stderr",
     "output_type": "stream",
     "text": [
      "/home/lb_lab/anaconda2/lib/python2.7/site-packages/ipykernel/__main__.py:34: FutureWarning: sort(columns=....) is deprecated, use sort_values(by=.....)\n"
     ]
    }
   ],
   "source": [
    "roi_stats_adw = calc_roi_stats(edge_conn_df_adw)"
   ]
  },
  {
   "cell_type": "code",
   "execution_count": 283,
   "metadata": {
    "collapsed": false
   },
   "outputs": [
    {
     "name": "stderr",
     "output_type": "stream",
     "text": [
      "/home/lb_lab/anaconda2/lib/python2.7/site-packages/ipykernel/__main__.py:34: FutureWarning: sort(columns=....) is deprecated, use sort_values(by=.....)\n"
     ]
    }
   ],
   "source": [
    "roi_stats_atw_wpm = calc_roi_stats(edge_conn_df_atw_wpm)"
   ]
  },
  {
   "cell_type": "code",
   "execution_count": 271,
   "metadata": {
    "collapsed": false
   },
   "outputs": [],
   "source": [
    "edge_conn_df_atw.to_csv(\"atw_both_hemi_edge_connections.csv\")\n",
    "edge_conn_df_adw.to_csv(\"adw_both_hemi_edge_connections.csv\")"
   ]
  },
  {
   "cell_type": "code",
   "execution_count": 284,
   "metadata": {
    "collapsed": true
   },
   "outputs": [],
   "source": [
    "roi_stats_atw.to_csv(\"atw_both_hemi_roi_stats.csv\")\n",
    "roi_stats_atw.to_csv(\"atw_both_hemi_roi_stats.csv\")"
   ]
  },
  {
   "cell_type": "code",
   "execution_count": null,
   "metadata": {
    "collapsed": true
   },
   "outputs": [],
   "source": []
  }
 ],
 "metadata": {
  "kernelspec": {
   "display_name": "Python 2",
   "language": "python",
   "name": "python2"
  },
  "language_info": {
   "codemirror_mode": {
    "name": "ipython",
    "version": 2
   },
   "file_extension": ".py",
   "mimetype": "text/x-python",
   "name": "python",
   "nbconvert_exporter": "python",
   "pygments_lexer": "ipython2",
   "version": "2.7.11"
  }
 },
 "nbformat": 4,
 "nbformat_minor": 0
}
