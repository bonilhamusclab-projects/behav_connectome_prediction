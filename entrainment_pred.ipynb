{
 "cells": [
  {
   "cell_type": "code",
   "execution_count": 1,
   "metadata": {
    "collapsed": true
   },
   "outputs": [],
   "source": [
    "from __future__ import division\n",
    "\n",
    "import numpy as np\n",
    "import pandas as pd"
   ]
  },
  {
   "cell_type": "code",
   "execution_count": 2,
   "metadata": {
    "collapsed": false
   },
   "outputs": [
    {
     "name": "stderr",
     "output_type": "stream",
     "text": [
      "//anaconda/lib/python2.7/site-packages/pandas/io/parsers.py:1170: DtypeWarning: Columns (17766,17769) have mixed types. Specify dtype option on import or set low_memory=False.\n",
      "  data = self._reader.read(nrows)\n"
     ]
    }
   ],
   "source": [
    "full = pd.read_csv(\"data/step3/full.csv\")"
   ]
  },
  {
   "cell_type": "code",
   "execution_count": 3,
   "metadata": {
    "collapsed": false
   },
   "outputs": [
    {
     "data": {
      "text/html": [
       "<div>\n",
       "<table border=\"1\" class=\"dataframe\">\n",
       "  <thead>\n",
       "    <tr style=\"text-align: right;\">\n",
       "      <th></th>\n",
       "      <th>0_1</th>\n",
       "      <th>0_2</th>\n",
       "      <th>1_2</th>\n",
       "      <th>0_3</th>\n",
       "      <th>1_3</th>\n",
       "      <th>2_3</th>\n",
       "      <th>0_4</th>\n",
       "      <th>1_4</th>\n",
       "      <th>2_4</th>\n",
       "      <th>3_4</th>\n",
       "      <th>...</th>\n",
       "      <th>183_188</th>\n",
       "      <th>184_188</th>\n",
       "      <th>185_188</th>\n",
       "      <th>186_188</th>\n",
       "      <th>187_188</th>\n",
       "      <th>pd_avg_total_different_words</th>\n",
       "      <th>id</th>\n",
       "      <th>avg_different_words</th>\n",
       "      <th>pd_avg_total_words</th>\n",
       "      <th>avg_total_words</th>\n",
       "    </tr>\n",
       "  </thead>\n",
       "  <tbody>\n",
       "    <tr>\n",
       "      <th>0</th>\n",
       "      <td>0.032489</td>\n",
       "      <td>2.339299</td>\n",
       "      <td>0.000000</td>\n",
       "      <td>0.048678</td>\n",
       "      <td>3.335747</td>\n",
       "      <td>2.668508</td>\n",
       "      <td>0.000000</td>\n",
       "      <td>0.000000</td>\n",
       "      <td>0.099720</td>\n",
       "      <td>0.000000</td>\n",
       "      <td>...</td>\n",
       "      <td>0.000000</td>\n",
       "      <td>0.838845</td>\n",
       "      <td>0.018956</td>\n",
       "      <td>5.803607</td>\n",
       "      <td>0.016164</td>\n",
       "      <td>25.66667</td>\n",
       "      <td>M2002</td>\n",
       "      <td>22.000000</td>\n",
       "      <td>38.33333</td>\n",
       "      <td>26.000000</td>\n",
       "    </tr>\n",
       "    <tr>\n",
       "      <th>1</th>\n",
       "      <td>14.201192</td>\n",
       "      <td>12.080313</td>\n",
       "      <td>0.400734</td>\n",
       "      <td>0.652326</td>\n",
       "      <td>13.805735</td>\n",
       "      <td>12.124953</td>\n",
       "      <td>0.035059</td>\n",
       "      <td>0.023994</td>\n",
       "      <td>1.692441</td>\n",
       "      <td>0.248087</td>\n",
       "      <td>...</td>\n",
       "      <td>0.016729</td>\n",
       "      <td>0.324816</td>\n",
       "      <td>0.073368</td>\n",
       "      <td>16.875852</td>\n",
       "      <td>0.029970</td>\n",
       "      <td>11.66667</td>\n",
       "      <td>M2005</td>\n",
       "      <td>18.666667</td>\n",
       "      <td>15</td>\n",
       "      <td>21.666667</td>\n",
       "    </tr>\n",
       "    <tr>\n",
       "      <th>2</th>\n",
       "      <td>1.042197</td>\n",
       "      <td>2.430823</td>\n",
       "      <td>0.044019</td>\n",
       "      <td>0.000000</td>\n",
       "      <td>8.337700</td>\n",
       "      <td>0.568099</td>\n",
       "      <td>0.000000</td>\n",
       "      <td>0.000000</td>\n",
       "      <td>0.000000</td>\n",
       "      <td>0.000000</td>\n",
       "      <td>...</td>\n",
       "      <td>0.017719</td>\n",
       "      <td>0.089223</td>\n",
       "      <td>0.000000</td>\n",
       "      <td>6.549371</td>\n",
       "      <td>0.000000</td>\n",
       "      <td>56.33333</td>\n",
       "      <td>M2006</td>\n",
       "      <td>40.666667</td>\n",
       "      <td>90</td>\n",
       "      <td>49.333333</td>\n",
       "    </tr>\n",
       "    <tr>\n",
       "      <th>3</th>\n",
       "      <td>0.147646</td>\n",
       "      <td>23.344354</td>\n",
       "      <td>0.982501</td>\n",
       "      <td>1.045988</td>\n",
       "      <td>17.109883</td>\n",
       "      <td>9.993598</td>\n",
       "      <td>0.000000</td>\n",
       "      <td>0.000000</td>\n",
       "      <td>0.000000</td>\n",
       "      <td>0.000000</td>\n",
       "      <td>...</td>\n",
       "      <td>0.000000</td>\n",
       "      <td>0.880226</td>\n",
       "      <td>0.000000</td>\n",
       "      <td>15.269169</td>\n",
       "      <td>0.110721</td>\n",
       "      <td>0</td>\n",
       "      <td>M2007</td>\n",
       "      <td>16.333333</td>\n",
       "      <td>0</td>\n",
       "      <td>18.666667</td>\n",
       "    </tr>\n",
       "    <tr>\n",
       "      <th>4</th>\n",
       "      <td>1.617759</td>\n",
       "      <td>7.017517</td>\n",
       "      <td>0.029115</td>\n",
       "      <td>0.089744</td>\n",
       "      <td>4.029099</td>\n",
       "      <td>1.364368</td>\n",
       "      <td>0.000443</td>\n",
       "      <td>0.000000</td>\n",
       "      <td>0.158688</td>\n",
       "      <td>0.017493</td>\n",
       "      <td>...</td>\n",
       "      <td>0.395273</td>\n",
       "      <td>4.735294</td>\n",
       "      <td>0.671899</td>\n",
       "      <td>21.300700</td>\n",
       "      <td>0.345084</td>\n",
       "      <td>53</td>\n",
       "      <td>M2014</td>\n",
       "      <td>38.333333</td>\n",
       "      <td>94</td>\n",
       "      <td>48.333333</td>\n",
       "    </tr>\n",
       "  </tbody>\n",
       "</table>\n",
       "<p>5 rows × 17771 columns</p>\n",
       "</div>"
      ],
      "text/plain": [
       "         0_1        0_2       1_2       0_3        1_3        2_3       0_4  \\\n",
       "0   0.032489   2.339299  0.000000  0.048678   3.335747   2.668508  0.000000   \n",
       "1  14.201192  12.080313  0.400734  0.652326  13.805735  12.124953  0.035059   \n",
       "2   1.042197   2.430823  0.044019  0.000000   8.337700   0.568099  0.000000   \n",
       "3   0.147646  23.344354  0.982501  1.045988  17.109883   9.993598  0.000000   \n",
       "4   1.617759   7.017517  0.029115  0.089744   4.029099   1.364368  0.000443   \n",
       "\n",
       "        1_4       2_4       3_4       ...          183_188   184_188  \\\n",
       "0  0.000000  0.099720  0.000000       ...         0.000000  0.838845   \n",
       "1  0.023994  1.692441  0.248087       ...         0.016729  0.324816   \n",
       "2  0.000000  0.000000  0.000000       ...         0.017719  0.089223   \n",
       "3  0.000000  0.000000  0.000000       ...         0.000000  0.880226   \n",
       "4  0.000000  0.158688  0.017493       ...         0.395273  4.735294   \n",
       "\n",
       "    185_188    186_188   187_188  pd_avg_total_different_words     id  \\\n",
       "0  0.018956   5.803607  0.016164                      25.66667  M2002   \n",
       "1  0.073368  16.875852  0.029970                      11.66667  M2005   \n",
       "2  0.000000   6.549371  0.000000                      56.33333  M2006   \n",
       "3  0.000000  15.269169  0.110721                             0  M2007   \n",
       "4  0.671899  21.300700  0.345084                            53  M2014   \n",
       "\n",
       "   avg_different_words  pd_avg_total_words  avg_total_words  \n",
       "0            22.000000            38.33333        26.000000  \n",
       "1            18.666667                  15        21.666667  \n",
       "2            40.666667                  90        49.333333  \n",
       "3            16.333333                   0        18.666667  \n",
       "4            38.333333                  94        48.333333  \n",
       "\n",
       "[5 rows x 17771 columns]"
      ]
     },
     "execution_count": 3,
     "metadata": {},
     "output_type": "execute_result"
    }
   ],
   "source": [
    "full.head()"
   ]
  },
  {
   "cell_type": "code",
   "execution_count": 5,
   "metadata": {
    "collapsed": false
   },
   "outputs": [
    {
     "data": {
      "text/plain": [
       "(61, 17771)"
      ]
     },
     "execution_count": 5,
     "metadata": {},
     "output_type": "execute_result"
    }
   ],
   "source": [
    "full.shape"
   ]
  },
  {
   "cell_type": "code",
   "execution_count": null,
   "metadata": {
    "collapsed": true
   },
   "outputs": [],
   "source": [
    "X, y = "
   ]
  },
  {
   "cell_type": "code",
   "execution_count": 6,
   "metadata": {
    "collapsed": true
   },
   "outputs": [],
   "source": [
    "from sklearn.svm import SVR"
   ]
  },
  {
   "cell_type": "code",
   "execution_count": 7,
   "metadata": {
    "collapsed": true
   },
   "outputs": [],
   "source": [
    "clf = SVR(kernel='linear', C=1.0)"
   ]
  },
  {
   "cell_type": "code",
   "execution_count": 8,
   "metadata": {
    "collapsed": false
   },
   "outputs": [
    {
     "data": {
      "text/plain": [
       "SVR(C=1.0, cache_size=200, coef0=0.0, degree=3, epsilon=0.1, gamma=0.0,\n",
       "  kernel='linear', max_iter=-1, shrinking=True, tol=0.001, verbose=False)"
      ]
     },
     "execution_count": 8,
     "metadata": {},
     "output_type": "execute_result"
    }
   ],
   "source": [
    "clf"
   ]
  },
  {
   "cell_type": "code",
   "execution_count": 37,
   "metadata": {
    "collapsed": false
   },
   "outputs": [],
   "source": [
    "import entrainment_pred"
   ]
  },
  {
   "cell_type": "code",
   "execution_count": 38,
   "metadata": {
    "collapsed": true
   },
   "outputs": [],
   "source": [
    "_, target_cols = entrainment_pred.separate_cols(full)"
   ]
  },
  {
   "cell_type": "code",
   "execution_count": 39,
   "metadata": {
    "collapsed": false
   },
   "outputs": [
    {
     "data": {
      "text/plain": [
       "{'avg_different_words',\n",
       " 'avg_total_words',\n",
       " 'pd_avg_total_different_words',\n",
       " 'pd_avg_total_words'}"
      ]
     },
     "execution_count": 39,
     "metadata": {},
     "output_type": "execute_result"
    }
   ],
   "source": [
    "target_cols"
   ]
  },
  {
   "cell_type": "code",
   "execution_count": 65,
   "metadata": {
    "collapsed": false
   },
   "outputs": [],
   "source": [
    "X_adw, y_adw = entrainment_pred.separate(full, 'avg_different_words')"
   ]
  },
  {
   "cell_type": "code",
   "execution_count": 60,
   "metadata": {
    "collapsed": false
   },
   "outputs": [
    {
     "data": {
      "text/plain": [
       "<module 'entrainment_pred' from 'entrainment_pred.py'>"
      ]
     },
     "execution_count": 60,
     "metadata": {},
     "output_type": "execute_result"
    }
   ],
   "source": [
    "reload(entrainment_pred)"
   ]
  },
  {
   "cell_type": "code",
   "execution_count": 68,
   "metadata": {
    "collapsed": false
   },
   "outputs": [
    {
     "name": "stdout",
     "output_type": "stream",
     "text": [
      "((58, 17766), (58,))\n"
     ]
    }
   ],
   "source": [
    "print (X_adw.shape, y_adw.shape)"
   ]
  },
  {
   "cell_type": "code",
   "execution_count": 69,
   "metadata": {
    "collapsed": true
   },
   "outputs": [],
   "source": [
    "X_atw, y_atw = entrainment_pred.separate(full, 'avg_total_words')"
   ]
  },
  {
   "cell_type": "code",
   "execution_count": 70,
   "metadata": {
    "collapsed": false
   },
   "outputs": [
    {
     "name": "stdout",
     "output_type": "stream",
     "text": [
      "((58, 17766), (58,))\n"
     ]
    }
   ],
   "source": [
    "print (X_atw.shape, y_atw.shape)"
   ]
  },
  {
   "cell_type": "code",
   "execution_count": 72,
   "metadata": {
    "collapsed": false
   },
   "outputs": [
    {
     "data": {
      "text/plain": [
       "True"
      ]
     },
     "execution_count": 72,
     "metadata": {},
     "output_type": "execute_result"
    }
   ],
   "source": [
    "np.all(X_adw == X_atw)"
   ]
  },
  {
   "cell_type": "code",
   "execution_count": 73,
   "metadata": {
    "collapsed": false
   },
   "outputs": [
    {
     "data": {
      "text/plain": [
       "False"
      ]
     },
     "execution_count": 73,
     "metadata": {},
     "output_type": "execute_result"
    }
   ],
   "source": [
    "np.all(y_adw == y_atw)"
   ]
  },
  {
   "cell_type": "code",
   "execution_count": null,
   "metadata": {
    "collapsed": true
   },
   "outputs": [],
   "source": []
  }
 ],
 "metadata": {
  "kernelspec": {
   "display_name": "Python 2",
   "language": "python",
   "name": "python2"
  },
  "language_info": {
   "codemirror_mode": {
    "name": "ipython",
    "version": 2
   },
   "file_extension": ".py",
   "mimetype": "text/x-python",
   "name": "python",
   "nbconvert_exporter": "python",
   "pygments_lexer": "ipython2",
   "version": "2.7.11"
  }
 },
 "nbformat": 4,
 "nbformat_minor": 0
}
