{
 "cells": [
  {
   "cell_type": "code",
   "execution_count": 62,
   "metadata": {
    "collapsed": true
   },
   "outputs": [],
   "source": [
    "%matplotlib inline"
   ]
  },
  {
   "cell_type": "code",
   "execution_count": 111,
   "metadata": {
    "collapsed": true
   },
   "outputs": [],
   "source": [
    "from __future__ import division\n",
    "\n",
    "import sys\n",
    "\n",
    "import numpy as np\n",
    "import pandas as pd\n",
    "\n",
    "import sklearn\n",
    "from sklearn import svm\n",
    "\n",
    "import entrainment_pred"
   ]
  },
  {
   "cell_type": "code",
   "execution_count": 78,
   "metadata": {
    "collapsed": false
   },
   "outputs": [],
   "source": [
    "full = pd.read_csv(\"data/step3/full.csv\")"
   ]
  },
  {
   "cell_type": "code",
   "execution_count": 67,
   "metadata": {
    "collapsed": true
   },
   "outputs": [],
   "source": [
    "_, target_cols = entrainment_pred.separate_cols(full)"
   ]
  },
  {
   "cell_type": "code",
   "execution_count": 68,
   "metadata": {
    "collapsed": false
   },
   "outputs": [
    {
     "data": {
      "text/plain": [
       "{'avg_different_words',\n",
       " 'avg_total_words',\n",
       " 'pd_avg_total_different_words',\n",
       " 'pd_avg_total_words'}"
      ]
     },
     "execution_count": 68,
     "metadata": {},
     "output_type": "execute_result"
    }
   ],
   "source": [
    "target_cols"
   ]
  },
  {
   "cell_type": "code",
   "execution_count": 85,
   "metadata": {
    "collapsed": false
   },
   "outputs": [
    {
     "name": "stdout",
     "output_type": "stream",
     "text": [
      "----------------------------------------------------------------------------------------------------\n",
      "########################################################################################################################################################################################################################################################################################################################################################################################################################################################################################################################################################################################################################################################################################################################################################################################################################################################################################################################################################################################################################################"
     ]
    }
   ],
   "source": [
    "search_adw = entrainment_pred.run(full, 'avg_different_words')"
   ]
  },
  {
   "cell_type": "code",
   "execution_count": 86,
   "metadata": {
    "collapsed": false
   },
   "outputs": [
    {
     "data": {
      "text/plain": [
       "-0.22068354414812291"
      ]
     },
     "execution_count": 86,
     "metadata": {},
     "output_type": "execute_result"
    }
   ],
   "source": [
    "search_adw.best_score_"
   ]
  },
  {
   "cell_type": "code",
   "execution_count": 87,
   "metadata": {
    "collapsed": false
   },
   "outputs": [
    {
     "name": "stdout",
     "output_type": "stream",
     "text": [
      "----------------------------------------------------------------------------------------------------\n",
      "########################################################################################################################################################################################################################################################################################################################################################################################################################################################################################################################################################################################################################################################################################################################################################################################################################################################################################################################################################################################################################################"
     ]
    }
   ],
   "source": [
    "search_atw = entrainment_pred.run(full, 'avg_total_words')"
   ]
  },
  {
   "cell_type": "code",
   "execution_count": 88,
   "metadata": {
    "collapsed": false
   },
   "outputs": [
    {
     "data": {
      "text/plain": [
       "-0.16247361331191351"
      ]
     },
     "execution_count": 88,
     "metadata": {},
     "output_type": "execute_result"
    }
   ],
   "source": [
    "search_atw.best_score_"
   ]
  },
  {
   "cell_type": "code",
   "execution_count": 81,
   "metadata": {
    "collapsed": false
   },
   "outputs": [
    {
     "name": "stdout",
     "output_type": "stream",
     "text": [
      "----------------------------------------------------------------------------------------------------\n",
      "########################################################################################################################################################################################################################################################################################################################################################################################################################################################################################################################################################################################################################################################################################################################################################################################################################################################################################################################################################################################################################################"
     ]
    }
   ],
   "source": [
    "search_p_atw = entrainment_pred.run(full, 'pd_avg_total_words')"
   ]
  },
  {
   "cell_type": "code",
   "execution_count": 82,
   "metadata": {
    "collapsed": false
   },
   "outputs": [
    {
     "data": {
      "text/plain": [
       "0.078913430156424977"
      ]
     },
     "execution_count": 82,
     "metadata": {},
     "output_type": "execute_result"
    }
   ],
   "source": [
    "search_p_atw.best_score_"
   ]
  },
  {
   "cell_type": "code",
   "execution_count": 83,
   "metadata": {
    "collapsed": false
   },
   "outputs": [
    {
     "name": "stdout",
     "output_type": "stream",
     "text": [
      "----------------------------------------------------------------------------------------------------\n",
      "########################################################################################################################################################################################################################################################################################################################################################################################################################################################################################################################################################################################################################################################################################################################################################################################################################################################################################################################################################################################################################################"
     ]
    }
   ],
   "source": [
    "search_p_atdw = entrainment_pred.run(full, 'pd_avg_total_different_words')"
   ]
  },
  {
   "cell_type": "code",
   "execution_count": 84,
   "metadata": {
    "collapsed": false
   },
   "outputs": [
    {
     "data": {
      "text/plain": [
       "0.14164525535726216"
      ]
     },
     "execution_count": 84,
     "metadata": {},
     "output_type": "execute_result"
    }
   ],
   "source": [
    "search_p_atdw.best_score_"
   ]
  },
  {
   "cell_type": "markdown",
   "metadata": {},
   "source": [
    "### Calculate Coefficients and Plot Closeness to Fit"
   ]
  },
  {
   "cell_type": "code",
   "execution_count": 158,
   "metadata": {
    "collapsed": true
   },
   "outputs": [],
   "source": [
    "def calc_coeffs(best_estimator, cv, data, target):\n",
    "\n",
    "    def _calc_coeffs(predicted_hist):\n",
    "        n_iter = cv.n_iter\n",
    "        print('-' * n_iter)\n",
    "\n",
    "        svr = best_estimator.named_steps['svr']\n",
    "        def fit(train):\n",
    "            best_estimator.fit(data.iloc[train], target.iloc[train])\n",
    "\n",
    "        def predict(test):\n",
    "            predicted = best_estimator.predict(data.iloc[test]).tolist()\n",
    "            for i in test:\n",
    "                predicted_hist[i].append(predicted.pop(0))\n",
    "\n",
    "        def coeffs_fn():\n",
    "            sys.stdout.write('#')\n",
    "            return svr.coef_.copy()\n",
    "\n",
    "        coeffs = entrainment_pred.calc_coeffs(cv, fit, coeffs_fn, predict)\n",
    "        return coeffs, predicted_hist\n",
    "    \n",
    "    return _calc_coeffs({i:[] for i in range(len(target))})\n",
    "    "
   ]
  },
  {
   "cell_type": "code",
   "execution_count": 159,
   "metadata": {
    "collapsed": false
   },
   "outputs": [
    {
     "name": "stdout",
     "output_type": "stream",
     "text": [
      "----------------------------------------------------------------------------------------------------\n",
      "####################################################################################################"
     ]
    }
   ],
   "source": [
    "data_adw, target_adw = entrainment_pred.separate(full, 'avg_different_words')\n",
    "coeffs_adw, predict_hist_adw = calc_coeffs(search_adw.best_estimator_, search_adw.cv, data_adw, target_adw)"
   ]
  },
  {
   "cell_type": "code",
   "execution_count": 308,
   "metadata": {
    "collapsed": false
   },
   "outputs": [],
   "source": [
    "import matplotlib.pyplot as plt\n",
    "\n",
    "plt.rcParams[\"figure.figsize\"] = (8, 6)\n",
    "\n",
    "def plot(predict_hist, target, title, sort=True, agg=np.mean, save=True):\n",
    "    x = range(len(target))\n",
    "    pmns = np.array([agg(predict_hist[i]) for i in range(len(predict_hist))])\n",
    "    \n",
    "    plt_indices = np.argsort(target) if sort else x\n",
    "    \n",
    "    plt.scatter(x, pmns[plt_indices], c='y')\n",
    "    p = plt.plot(target.get_values()[plt_indices], marker='*')\n",
    "    plt.title(title)\n",
    "    msg = 'corr: %.2f' % np.corrcoef(pmns, target.get_values())[0][1]\n",
    "    plt.text(.9, .95, msg, verticalalignment='top', fontsize=12, \n",
    "         horizontalalignment='right', transform=p[0].axes.transAxes)\n",
    "    \n",
    "    if save:\n",
    "        plt.savefig(title + '.jpg')"
   ]
  },
  {
   "cell_type": "code",
   "execution_count": 309,
   "metadata": {
    "collapsed": false
   },
   "outputs": [
    {
     "data": {
      "image/png": "[encoded data removed]",
      "text/plain": [
       "<matplotlib.figure.Figure at 0x1115b1cd0>"
      ]
     },
     "metadata": {},
     "output_type": "display_data"
    }
   ],
   "source": [
    "plot(predict_hist_adw, target_adw, 'Average Different Words')"
   ]
  },
  {
   "cell_type": "code",
   "execution_count": 162,
   "metadata": {
    "collapsed": false
   },
   "outputs": [
    {
     "name": "stdout",
     "output_type": "stream",
     "text": [
      "----------------------------------------------------------------------------------------------------\n",
      "####################################################################################################"
     ]
    }
   ],
   "source": [
    "data_atw, target_atw = entrainment_pred.separate(full, 'avg_total_words')\n",
    "coeffs_atw, predict_hist_atw = calc_coeffs(search_atw.best_estimator_, search_atw.cv, data_atw, target_atw)"
   ]
  },
  {
   "cell_type": "code",
   "execution_count": 310,
   "metadata": {
    "collapsed": false
   },
   "outputs": [
    {
     "data": {
      "image/png": "[encoded data removed]",
      "text/plain": [
       "<matplotlib.figure.Figure at 0x10c0e9c10>"
      ]
     },
     "metadata": {},
     "output_type": "display_data"
    }
   ],
   "source": [
    "plot(predict_hist_atw, target_atw, 'Average Total Words')"
   ]
  },
  {
   "cell_type": "code",
   "execution_count": 164,
   "metadata": {
    "collapsed": false
   },
   "outputs": [
    {
     "name": "stdout",
     "output_type": "stream",
     "text": [
      "----------------------------------------------------------------------------------------------------\n",
      "####################################################################################################"
     ]
    }
   ],
   "source": [
    "data_p_atw, target_p_atw = entrainment_pred.separate(full, 'pd_avg_total_words')\n",
    "coeffs_p_atw, predict_hist_p_atw = calc_coeffs(search_p_atw.best_estimator_, \n",
    "                                           search_p_atw.cv, \n",
    "                                           data_p_atw, \n",
    "                                           target_p_atw)"
   ]
  },
  {
   "cell_type": "code",
   "execution_count": 311,
   "metadata": {
    "collapsed": false
   },
   "outputs": [
    {
     "data": {
      "image/png": "[encoded data removed]",
      "text/plain": [
       "<matplotlib.figure.Figure at 0x10b8b2490>"
      ]
     },
     "metadata": {},
     "output_type": "display_data"
    }
   ],
   "source": [
    "plot(predict_hist_p_atw, target_p_atw, 'Picture Average Total Words')"
   ]
  },
  {
   "cell_type": "code",
   "execution_count": 166,
   "metadata": {
    "collapsed": false
   },
   "outputs": [
    {
     "name": "stdout",
     "output_type": "stream",
     "text": [
      "----------------------------------------------------------------------------------------------------\n",
      "####################################################################################################"
     ]
    }
   ],
   "source": [
    "data_p_atdw, target_p_atdw = entrainment_pred.separate(full, 'pd_avg_total_different_words')\n",
    "coeffs_p_atdw, predict_hist_p_atdw = calc_coeffs(search_p_atdw.best_estimator_, \n",
    "                                           search_p_atdw.cv, \n",
    "                                           data_p_atdw, \n",
    "                                           target_p_atdw)"
   ]
  },
  {
   "cell_type": "code",
   "execution_count": 312,
   "metadata": {
    "collapsed": false
   },
   "outputs": [
    {
     "data": {
      "image/png": "[encoded data removed]",
      "text/plain": [
       "<matplotlib.figure.Figure at 0x11084eb90>"
      ]
     },
     "metadata": {},
     "output_type": "display_data"
    }
   ],
   "source": [
    "plot(predict_hist_p_atdw, target_p_atdw, 'Picture Average Total Different Words')"
   ]
  },
  {
   "cell_type": "code",
   "execution_count": 316,
   "metadata": {
    "collapsed": false,
    "scrolled": true
   },
   "outputs": [
    {
     "data": {
      "text/plain": [
       "['0, 23.15, 20.68, 15.30',\n",
       " '1, 119.53, 120.27, 21.86',\n",
       " '2, 93.24, 91.65, 23.41',\n",
       " '3, 74.11, 69.29, 23.56',\n",
       " '4, 130.75, 128.03, 14.14',\n",
       " '5, 43.67, 41.01, 12.49',\n",
       " '6, 96.59, 96.69, 13.82',\n",
       " '7, 75.40, 76.55, 14.93',\n",
       " '8, 121.18, 121.38, 22.75',\n",
       " '9, 46.27, 52.43, 14.17',\n",
       " '10, 65.89, 71.29, 16.02',\n",
       " '11, 24.75, 23.93, 12.58',\n",
       " '12, 148.22, 154.51, 15.97',\n",
       " '13, 115.16, 116.18, 16.47',\n",
       " '14, 129.99, 132.16, 23.01',\n",
       " '15, -0.46, -1.95, 9.46',\n",
       " '16, 78.49, 76.09, 13.21',\n",
       " '17, 179.67, 178.99, 10.35',\n",
       " '18, 52.70, 55.44, 14.30',\n",
       " '19, 95.67, 95.53, 20.76',\n",
       " '20, 179.01, 176.80, 14.56',\n",
       " '21, 221.52, 220.29, 12.33',\n",
       " '22, 81.32, 83.77, 9.75',\n",
       " '23, 109.74, 111.54, 12.88',\n",
       " '24, 111.03, 107.03, 14.42',\n",
       " '25, 140.18, 138.49, 14.98',\n",
       " '26, 144.78, 144.57, 15.46',\n",
       " '27, 94.70, 85.95, 43.99',\n",
       " '28, 42.22, 41.47, 16.16',\n",
       " '29, 139.07, 134.19, 18.13',\n",
       " '30, 140.97, 146.02, 16.88',\n",
       " '31, 128.98, 126.56, 15.51',\n",
       " '32, 158.47, 156.44, 28.02',\n",
       " '33, 105.56, 107.96, 16.54',\n",
       " '34, 231.39, 232.90, 14.31',\n",
       " '35, 146.37, 147.52, 15.35',\n",
       " '36, 165.05, 167.59, 14.39',\n",
       " '37, 228.45, 228.08, 15.85',\n",
       " '38, 205.32, 205.46, 12.87',\n",
       " '39, 142.97, 138.64, 17.57',\n",
       " '40, 177.92, 177.26, 15.39',\n",
       " '41, 148.26, 150.74, 12.42',\n",
       " '42, 187.64, 176.90, 24.08',\n",
       " '43, 128.38, 125.83, 16.07',\n",
       " '44, 207.03, 211.11, 17.03',\n",
       " '45, 83.50, 92.87, 25.75',\n",
       " '46, 203.14, 196.80, 14.76',\n",
       " '47, 137.98, 135.55, 11.06',\n",
       " '48, 153.38, 152.33, 15.42',\n",
       " '49, 186.92, 190.25, 16.10',\n",
       " '50, 171.14, 171.63, 10.02',\n",
       " '51, 213.15, 214.76, 16.69',\n",
       " '52, 157.38, 156.76, 15.26',\n",
       " '53, 187.88, 187.67, 18.00',\n",
       " '54, 198.28, 194.24, 11.78',\n",
       " '55, 111.06, 113.92, 20.21']"
      ]
     },
     "execution_count": 316,
     "metadata": {},
     "output_type": "execute_result"
    }
   ],
   "source": [
    "[ \"%s, %.2f, %.2f, %.2f\" % (i, \n",
    "                      np.mean(predict_hist_p_atw[i]), \n",
    "                      np.median(predict_hist_p_atw[i]),\n",
    "                     np.std(predict_hist_p_atw[i])) \n",
    " for i in predict_hist_p_atw]"
   ]
  },
  {
   "cell_type": "code",
   "execution_count": null,
   "metadata": {
    "collapsed": true
   },
   "outputs": [],
   "source": []
  }
 ],
 "metadata": {
  "kernelspec": {
   "display_name": "Python 2",
   "language": "python",
   "name": "python2"
  },
  "language_info": {
   "codemirror_mode": {
    "name": "ipython",
    "version": 2
   },
   "file_extension": ".py",
   "mimetype": "text/x-python",
   "name": "python",
   "nbconvert_exporter": "python",
   "pygments_lexer": "ipython2",
   "version": "2.7.11"
  }
 },
 "nbformat": 4,
 "nbformat_minor": 0
}
