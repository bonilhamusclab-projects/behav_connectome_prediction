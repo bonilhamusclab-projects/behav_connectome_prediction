{
 "cells": [
  {
   "cell_type": "code",
   "execution_count": 62,
   "metadata": {
    "collapsed": true
   },
   "outputs": [],
   "source": [
    "%matplotlib inline"
   ]
  },
  {
   "cell_type": "code",
   "execution_count": 111,
   "metadata": {
    "collapsed": true
   },
   "outputs": [],
   "source": [
    "from __future__ import division\n",
    "\n",
    "import sys\n",
    "\n",
    "import numpy as np\n",
    "import pandas as pd\n",
    "\n",
    "import sklearn\n",
    "from sklearn import svm\n",
    "\n",
    "import entrainment_pred"
   ]
  },
  {
   "cell_type": "code",
   "execution_count": 78,
   "metadata": {
    "collapsed": false
   },
   "outputs": [],
   "source": [
    "full = pd.read_csv(\"data/step3/full.csv\")"
   ]
  },
  {
   "cell_type": "code",
   "execution_count": 67,
   "metadata": {
    "collapsed": true
   },
   "outputs": [],
   "source": [
    "_, target_cols = entrainment_pred.separate_cols(full)"
   ]
  },
  {
   "cell_type": "code",
   "execution_count": 68,
   "metadata": {
    "collapsed": false
   },
   "outputs": [
    {
     "data": {
      "text/plain": [
       "{'avg_different_words',\n",
       " 'avg_total_words',\n",
       " 'pd_avg_total_different_words',\n",
       " 'pd_avg_total_words'}"
      ]
     },
     "execution_count": 68,
     "metadata": {},
     "output_type": "execute_result"
    }
   ],
   "source": [
    "target_cols"
   ]
  },
  {
   "cell_type": "code",
   "execution_count": 85,
   "metadata": {
    "collapsed": false
   },
   "outputs": [
    {
     "name": "stdout",
     "output_type": "stream",
     "text": [
      "----------------------------------------------------------------------------------------------------\n",
      "########################################################################################################################################################################################################################################################################################################################################################################################################################################################################################################################################################################################################################################################################################################################################################################################################################################################################################################################################################################################################################################"
     ]
    }
   ],
   "source": [
    "search_adw = entrainment_pred.run(full, 'avg_different_words')"
   ]
  },
  {
   "cell_type": "code",
   "execution_count": 86,
   "metadata": {
    "collapsed": false
   },
   "outputs": [
    {
     "data": {
      "text/plain": [
       "-0.22068354414812291"
      ]
     },
     "execution_count": 86,
     "metadata": {},
     "output_type": "execute_result"
    }
   ],
   "source": [
    "search_adw.best_score_"
   ]
  },
  {
   "cell_type": "code",
   "execution_count": 87,
   "metadata": {
    "collapsed": false
   },
   "outputs": [
    {
     "name": "stdout",
     "output_type": "stream",
     "text": [
      "----------------------------------------------------------------------------------------------------\n",
      "########################################################################################################################################################################################################################################################################################################################################################################################################################################################################################################################################################################################################################################################################################################################################################################################################################################################################################################################################################################################################################################"
     ]
    }
   ],
   "source": [
    "search_atw = entrainment_pred.run(full, 'avg_total_words')"
   ]
  },
  {
   "cell_type": "code",
   "execution_count": 88,
   "metadata": {
    "collapsed": false
   },
   "outputs": [
    {
     "data": {
      "text/plain": [
       "-0.16247361331191351"
      ]
     },
     "execution_count": 88,
     "metadata": {},
     "output_type": "execute_result"
    }
   ],
   "source": [
    "search_atw.best_score_"
   ]
  },
  {
   "cell_type": "code",
   "execution_count": 81,
   "metadata": {
    "collapsed": false
   },
   "outputs": [
    {
     "name": "stdout",
     "output_type": "stream",
     "text": [
      "----------------------------------------------------------------------------------------------------\n",
      "########################################################################################################################################################################################################################################################################################################################################################################################################################################################################################################################################################################################################################################################################################################################################################################################################################################################################################################################################################################################################################################"
     ]
    }
   ],
   "source": [
    "search_p_atw = entrainment_pred.run(full, 'pd_avg_total_words')"
   ]
  },
  {
   "cell_type": "code",
   "execution_count": 82,
   "metadata": {
    "collapsed": false
   },
   "outputs": [
    {
     "data": {
      "text/plain": [
       "0.078913430156424977"
      ]
     },
     "execution_count": 82,
     "metadata": {},
     "output_type": "execute_result"
    }
   ],
   "source": [
    "search_p_atw.best_score_"
   ]
  },
  {
   "cell_type": "code",
   "execution_count": 83,
   "metadata": {
    "collapsed": false
   },
   "outputs": [
    {
     "name": "stdout",
     "output_type": "stream",
     "text": [
      "----------------------------------------------------------------------------------------------------\n",
      "########################################################################################################################################################################################################################################################################################################################################################################################################################################################################################################################################################################################################################################################################################################################################################################################################################################################################################################################################################################################################################################"
     ]
    }
   ],
   "source": [
    "search_p_atdw = entrainment_pred.run(full, 'pd_avg_total_different_words')"
   ]
  },
  {
   "cell_type": "code",
   "execution_count": 84,
   "metadata": {
    "collapsed": false
   },
   "outputs": [
    {
     "data": {
      "text/plain": [
       "0.14164525535726216"
      ]
     },
     "execution_count": 84,
     "metadata": {},
     "output_type": "execute_result"
    }
   ],
   "source": [
    "search_p_atdw.best_score_"
   ]
  },
  {
   "cell_type": "markdown",
   "metadata": {},
   "source": [
    "### Calculate Coefficients and Plot Closeness to Fit"
   ]
  },
  {
   "cell_type": "code",
   "execution_count": 158,
   "metadata": {
    "collapsed": true
   },
   "outputs": [],
   "source": [
    "def calc_coeffs(best_estimator, cv, data, target):\n",
    "\n",
    "    def _calc_coeffs(predicted_hist):\n",
    "        n_iter = cv.n_iter\n",
    "        print('-' * n_iter)\n",
    "\n",
    "        svr = best_estimator.named_steps['svr']\n",
    "        def fit(train):\n",
    "            best_estimator.fit(data.iloc[train], target.iloc[train])\n",
    "\n",
    "        def predict(test):\n",
    "            predicted = best_estimator.predict(data.iloc[test]).tolist()\n",
    "            for i in test:\n",
    "                predicted_hist[i].append(predicted.pop(0))\n",
    "\n",
    "        def coeffs_fn():\n",
    "            sys.stdout.write('#')\n",
    "            return svr.coef_.copy()\n",
    "\n",
    "        coeffs = entrainment_pred.calc_coeffs(cv, fit, coeffs_fn, predict)\n",
    "        return coeffs, predicted_hist\n",
    "    \n",
    "    return _calc_coeffs({i:[] for i in range(len(target))})\n",
    "    "
   ]
  },
  {
   "cell_type": "code",
   "execution_count": 159,
   "metadata": {
    "collapsed": false
   },
   "outputs": [
    {
     "name": "stdout",
     "output_type": "stream",
     "text": [
      "----------------------------------------------------------------------------------------------------\n",
      "####################################################################################################"
     ]
    }
   ],
   "source": [
    "data_adw, target_adw = entrainment_pred.separate(full, 'avg_different_words')\n",
    "coeffs_adw, predict_hist_adw = calc_coeffs(search_adw.best_estimator_, search_adw.cv, data_adw, target_adw)"
   ]
  },
  {
   "cell_type": "code",
   "execution_count": 230,
   "metadata": {
    "collapsed": false
   },
   "outputs": [],
   "source": [
    "import matplotlib.pyplot as plt\n",
    "\n",
    "plt.rcParams[\"figure.figsize\"] = (8, 6)\n",
    "\n",
    "def plot(predict_hist, target, title, sort=True, agg=np.mean, save=True):\n",
    "    x = range(len(target))\n",
    "    pmns = np.array([agg(predict_hist[i]) for i in range(len(predict_hist))])\n",
    "    \n",
    "    plt_indices = np.argsort(target) if sort else x\n",
    "    plt.scatter(x, pmns[plt_indices], c='y')\n",
    "    plt.plot(target.get_values()[plt_indices], marker='*')\n",
    "    plt.title(title)\n",
    "    if save:\n",
    "        plt.savefig(title + '.jpg')"
   ]
  },
  {
   "cell_type": "code",
   "execution_count": 231,
   "metadata": {
    "collapsed": false
   },
   "outputs": [
    {
     "data": {
      "image/png": "[encoded data removed]",
      "text/plain": [
       "<matplotlib.figure.Figure at 0x10bcc00d0>"
      ]
     },
     "metadata": {},
     "output_type": "display_data"
    }
   ],
   "source": [
    "plot(predict_hist_adw, target_adw, 'Average Different Words')"
   ]
  },
  {
   "cell_type": "code",
   "execution_count": 162,
   "metadata": {
    "collapsed": false
   },
   "outputs": [
    {
     "name": "stdout",
     "output_type": "stream",
     "text": [
      "----------------------------------------------------------------------------------------------------\n",
      "####################################################################################################"
     ]
    }
   ],
   "source": [
    "data_atw, target_atw = entrainment_pred.separate(full, 'avg_total_words')\n",
    "coeffs_atw, predict_hist_atw = calc_coeffs(search_atw.best_estimator_, search_atw.cv, data_atw, target_atw)"
   ]
  },
  {
   "cell_type": "code",
   "execution_count": 232,
   "metadata": {
    "collapsed": false
   },
   "outputs": [
    {
     "data": {
      "image/png": "[encoded data removed]",
      "text/plain": [
       "<matplotlib.figure.Figure at 0x10cac06d0>"
      ]
     },
     "metadata": {},
     "output_type": "display_data"
    }
   ],
   "source": [
    "plot(predict_hist_atw, target_atw, 'Average Total Words')"
   ]
  },
  {
   "cell_type": "code",
   "execution_count": 164,
   "metadata": {
    "collapsed": false
   },
   "outputs": [
    {
     "name": "stdout",
     "output_type": "stream",
     "text": [
      "----------------------------------------------------------------------------------------------------\n",
      "####################################################################################################"
     ]
    }
   ],
   "source": [
    "data_p_atw, target_p_atw = entrainment_pred.separate(full, 'pd_avg_total_words')\n",
    "coeffs_p_atw, predict_hist_p_atw = calc_coeffs(search_p_atw.best_estimator_, \n",
    "                                           search_p_atw.cv, \n",
    "                                           data_p_atw, \n",
    "                                           target_p_atw)"
   ]
  },
  {
   "cell_type": "code",
   "execution_count": 233,
   "metadata": {
    "collapsed": false
   },
   "outputs": [
    {
     "data": {
      "image/png": "[encoded data removed]",
      "text/plain": [
       "<matplotlib.figure.Figure at 0x10e0309d0>"
      ]
     },
     "metadata": {},
     "output_type": "display_data"
    }
   ],
   "source": [
    "plot(predict_hist_p_atw, target_p_atw, 'Picture Average Total Words')"
   ]
  },
  {
   "cell_type": "code",
   "execution_count": 166,
   "metadata": {
    "collapsed": false
   },
   "outputs": [
    {
     "name": "stdout",
     "output_type": "stream",
     "text": [
      "----------------------------------------------------------------------------------------------------\n",
      "####################################################################################################"
     ]
    }
   ],
   "source": [
    "data_p_atdw, target_p_atdw = entrainment_pred.separate(full, 'pd_avg_total_different_words')\n",
    "coeffs_p_atdw, predict_hist_p_atdw = calc_coeffs(search_p_atdw.best_estimator_, \n",
    "                                           search_p_atdw.cv, \n",
    "                                           data_p_atdw, \n",
    "                                           target_p_atdw)"
   ]
  },
  {
   "cell_type": "code",
   "execution_count": 234,
   "metadata": {
    "collapsed": false
   },
   "outputs": [
    {
     "data": {
      "image/png": "[encoded data removed]",
      "text/plain": [
       "<matplotlib.figure.Figure at 0x10bcc0090>"
      ]
     },
     "metadata": {},
     "output_type": "display_data"
    }
   ],
   "source": [
    "plot(predict_hist_p_atdw, target_p_atdw, 'Picture Average Total Different Words')"
   ]
  },
  {
   "cell_type": "code",
   "execution_count": null,
   "metadata": {
    "collapsed": true
   },
   "outputs": [],
   "source": []
  }
 ],
 "metadata": {
  "kernelspec": {
   "display_name": "Python 2",
   "language": "python",
   "name": "python2"
  },
  "language_info": {
   "codemirror_mode": {
    "name": "ipython",
    "version": 2
   },
   "file_extension": ".py",
   "mimetype": "text/x-python",
   "name": "python",
   "nbconvert_exporter": "python",
   "pygments_lexer": "ipython2",
   "version": "2.7.11"
  }
 },
 "nbformat": 4,
 "nbformat_minor": 0
}
